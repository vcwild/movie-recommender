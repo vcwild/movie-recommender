{
  "nbformat": 4,
  "nbformat_minor": 0,
  "metadata": {
    "colab": {
      "name": "movie_recsys.ipynb",
      "provenance": [],
      "authorship_tag": "ABX9TyMmEQrD54AzBXkCDAajxJSl",
      "include_colab_link": true
    },
    "kernelspec": {
      "name": "python3",
      "display_name": "Python 3"
    }
  },
  "cells": [
    {
      "cell_type": "markdown",
      "metadata": {
        "id": "view-in-github",
        "colab_type": "text"
      },
      "source": [
        "<a href=\"https://colab.research.google.com/github/vcwild/movie-recommender/blob/main/movie_recsys.ipynb\" target=\"_parent\"><img src=\"https://colab.research.google.com/assets/colab-badge.svg\" alt=\"Open In Colab\"/></a>"
      ]
    },
    {
      "cell_type": "markdown",
      "metadata": {
        "id": "dkmO9MVjE-GX"
      },
      "source": [
        "# Developing a Recommender System\n",
        "Let's implement a movie recommender engine from scratch by using the GroupLens Movie Database"
      ]
    },
    {
      "cell_type": "markdown",
      "metadata": {
        "id": "3pesP7ac0z3R"
      },
      "source": [
        "# Setup"
      ]
    },
    {
      "cell_type": "code",
      "metadata": {
        "id": "Gmot2WkLve3R",
        "outputId": "ab70a542-5148-47c4-f2f7-3e3c0038a013",
        "colab": {
          "base_uri": "https://localhost:8080/"
        }
      },
      "source": [
        "!wget http://files.grouplens.org/datasets/movielens/ml-latest-small.zip --no-check-certificate"
      ],
      "execution_count": 1,
      "outputs": [
        {
          "output_type": "stream",
          "text": [
            "--2020-10-31 02:15:55--  http://files.grouplens.org/datasets/movielens/ml-latest-small.zip\n",
            "Resolving files.grouplens.org (files.grouplens.org)... 128.101.65.152\n",
            "Connecting to files.grouplens.org (files.grouplens.org)|128.101.65.152|:80... connected.\n",
            "HTTP request sent, awaiting response... 200 OK\n",
            "Length: 978202 (955K) [application/zip]\n",
            "Saving to: ‘ml-latest-small.zip’\n",
            "\n",
            "ml-latest-small.zip 100%[===================>] 955.28K  4.43MB/s    in 0.2s    \n",
            "\n",
            "2020-10-31 02:15:56 (4.43 MB/s) - ‘ml-latest-small.zip’ saved [978202/978202]\n",
            "\n"
          ],
          "name": "stdout"
        }
      ]
    },
    {
      "cell_type": "code",
      "metadata": {
        "id": "hhuJtyk7v3N1",
        "outputId": "e9f21e59-a5ce-43bf-a0e1-36fda8dfbf5d",
        "colab": {
          "base_uri": "https://localhost:8080/"
        }
      },
      "source": [
        "!unzip ml-latest-small*"
      ],
      "execution_count": 2,
      "outputs": [
        {
          "output_type": "stream",
          "text": [
            "Archive:  ml-latest-small.zip\n",
            "caution: filename not matched:  ml-latest-small.zip\n"
          ],
          "name": "stdout"
        }
      ]
    },
    {
      "cell_type": "code",
      "metadata": {
        "id": "YI-mKSIKv-yU"
      },
      "source": [
        "!rm ml-latest-small.zip"
      ],
      "execution_count": 3,
      "outputs": []
    },
    {
      "cell_type": "code",
      "metadata": {
        "id": "dXNBSved0EVb"
      },
      "source": [
        "import pandas as pd "
      ],
      "execution_count": 4,
      "outputs": []
    },
    {
      "cell_type": "code",
      "metadata": {
        "id": "JXZjvr0awFvY",
        "outputId": "496b7c3a-403e-4d46-efba-d2ea909d02e9",
        "colab": {
          "base_uri": "https://localhost:8080/",
          "height": 235
        }
      },
      "source": [
        "movies = pd.read_csv(\"/content/ml-latest-small/movies.csv\")\n",
        "movies.set_index('movieId', inplace=True)\n",
        "movies.head()"
      ],
      "execution_count": 5,
      "outputs": [
        {
          "output_type": "execute_result",
          "data": {
            "text/html": [
              "<div>\n",
              "<style scoped>\n",
              "    .dataframe tbody tr th:only-of-type {\n",
              "        vertical-align: middle;\n",
              "    }\n",
              "\n",
              "    .dataframe tbody tr th {\n",
              "        vertical-align: top;\n",
              "    }\n",
              "\n",
              "    .dataframe thead th {\n",
              "        text-align: right;\n",
              "    }\n",
              "</style>\n",
              "<table border=\"1\" class=\"dataframe\">\n",
              "  <thead>\n",
              "    <tr style=\"text-align: right;\">\n",
              "      <th></th>\n",
              "      <th>title</th>\n",
              "      <th>genres</th>\n",
              "    </tr>\n",
              "    <tr>\n",
              "      <th>movieId</th>\n",
              "      <th></th>\n",
              "      <th></th>\n",
              "    </tr>\n",
              "  </thead>\n",
              "  <tbody>\n",
              "    <tr>\n",
              "      <th>1</th>\n",
              "      <td>Toy Story (1995)</td>\n",
              "      <td>Adventure|Animation|Children|Comedy|Fantasy</td>\n",
              "    </tr>\n",
              "    <tr>\n",
              "      <th>2</th>\n",
              "      <td>Jumanji (1995)</td>\n",
              "      <td>Adventure|Children|Fantasy</td>\n",
              "    </tr>\n",
              "    <tr>\n",
              "      <th>3</th>\n",
              "      <td>Grumpier Old Men (1995)</td>\n",
              "      <td>Comedy|Romance</td>\n",
              "    </tr>\n",
              "    <tr>\n",
              "      <th>4</th>\n",
              "      <td>Waiting to Exhale (1995)</td>\n",
              "      <td>Comedy|Drama|Romance</td>\n",
              "    </tr>\n",
              "    <tr>\n",
              "      <th>5</th>\n",
              "      <td>Father of the Bride Part II (1995)</td>\n",
              "      <td>Comedy</td>\n",
              "    </tr>\n",
              "  </tbody>\n",
              "</table>\n",
              "</div>"
            ],
            "text/plain": [
              "                                      title                                       genres\n",
              "movieId                                                                                 \n",
              "1                          Toy Story (1995)  Adventure|Animation|Children|Comedy|Fantasy\n",
              "2                            Jumanji (1995)                   Adventure|Children|Fantasy\n",
              "3                   Grumpier Old Men (1995)                               Comedy|Romance\n",
              "4                  Waiting to Exhale (1995)                         Comedy|Drama|Romance\n",
              "5        Father of the Bride Part II (1995)                                       Comedy"
            ]
          },
          "metadata": {
            "tags": []
          },
          "execution_count": 5
        }
      ]
    },
    {
      "cell_type": "code",
      "metadata": {
        "id": "NcYQ1Dmx0WZ5",
        "outputId": "168497f6-d4fd-454b-fb23-415dafcaf808",
        "colab": {
          "base_uri": "https://localhost:8080/",
          "height": 204
        }
      },
      "source": [
        "ratings = pd.read_csv(\"/content/ml-latest-small/ratings.csv\")\n",
        "ratings.tail()"
      ],
      "execution_count": 6,
      "outputs": [
        {
          "output_type": "execute_result",
          "data": {
            "text/html": [
              "<div>\n",
              "<style scoped>\n",
              "    .dataframe tbody tr th:only-of-type {\n",
              "        vertical-align: middle;\n",
              "    }\n",
              "\n",
              "    .dataframe tbody tr th {\n",
              "        vertical-align: top;\n",
              "    }\n",
              "\n",
              "    .dataframe thead th {\n",
              "        text-align: right;\n",
              "    }\n",
              "</style>\n",
              "<table border=\"1\" class=\"dataframe\">\n",
              "  <thead>\n",
              "    <tr style=\"text-align: right;\">\n",
              "      <th></th>\n",
              "      <th>userId</th>\n",
              "      <th>movieId</th>\n",
              "      <th>rating</th>\n",
              "      <th>timestamp</th>\n",
              "    </tr>\n",
              "  </thead>\n",
              "  <tbody>\n",
              "    <tr>\n",
              "      <th>100831</th>\n",
              "      <td>610</td>\n",
              "      <td>166534</td>\n",
              "      <td>4.0</td>\n",
              "      <td>1493848402</td>\n",
              "    </tr>\n",
              "    <tr>\n",
              "      <th>100832</th>\n",
              "      <td>610</td>\n",
              "      <td>168248</td>\n",
              "      <td>5.0</td>\n",
              "      <td>1493850091</td>\n",
              "    </tr>\n",
              "    <tr>\n",
              "      <th>100833</th>\n",
              "      <td>610</td>\n",
              "      <td>168250</td>\n",
              "      <td>5.0</td>\n",
              "      <td>1494273047</td>\n",
              "    </tr>\n",
              "    <tr>\n",
              "      <th>100834</th>\n",
              "      <td>610</td>\n",
              "      <td>168252</td>\n",
              "      <td>5.0</td>\n",
              "      <td>1493846352</td>\n",
              "    </tr>\n",
              "    <tr>\n",
              "      <th>100835</th>\n",
              "      <td>610</td>\n",
              "      <td>170875</td>\n",
              "      <td>3.0</td>\n",
              "      <td>1493846415</td>\n",
              "    </tr>\n",
              "  </tbody>\n",
              "</table>\n",
              "</div>"
            ],
            "text/plain": [
              "        userId  movieId  rating   timestamp\n",
              "100831     610   166534     4.0  1493848402\n",
              "100832     610   168248     5.0  1493850091\n",
              "100833     610   168250     5.0  1494273047\n",
              "100834     610   168252     5.0  1493846352\n",
              "100835     610   170875     3.0  1493846415"
            ]
          },
          "metadata": {
            "tags": []
          },
          "execution_count": 6
        }
      ]
    },
    {
      "cell_type": "markdown",
      "metadata": {
        "id": "E_BuwxG60j-2"
      },
      "source": [
        "# Recommendation System"
      ]
    },
    {
      "cell_type": "markdown",
      "metadata": {
        "id": "Iu1XRv2n6y7p"
      },
      "source": [
        "## Recommendation based on movie ratings only"
      ]
    },
    {
      "cell_type": "code",
      "metadata": {
        "id": "03cTttzg0ygO",
        "outputId": "19dbceae-33ac-4f5a-938b-eae2cc0e87dc",
        "colab": {
          "base_uri": "https://localhost:8080/",
          "height": 235
        }
      },
      "source": [
        "# define total votes\n",
        "total_votes = ratings['movieId'].value_counts()\n",
        "movies['total_votes'] = total_votes\n",
        "movies.head()"
      ],
      "execution_count": 7,
      "outputs": [
        {
          "output_type": "execute_result",
          "data": {
            "text/html": [
              "<div>\n",
              "<style scoped>\n",
              "    .dataframe tbody tr th:only-of-type {\n",
              "        vertical-align: middle;\n",
              "    }\n",
              "\n",
              "    .dataframe tbody tr th {\n",
              "        vertical-align: top;\n",
              "    }\n",
              "\n",
              "    .dataframe thead th {\n",
              "        text-align: right;\n",
              "    }\n",
              "</style>\n",
              "<table border=\"1\" class=\"dataframe\">\n",
              "  <thead>\n",
              "    <tr style=\"text-align: right;\">\n",
              "      <th></th>\n",
              "      <th>title</th>\n",
              "      <th>genres</th>\n",
              "      <th>total_votes</th>\n",
              "    </tr>\n",
              "    <tr>\n",
              "      <th>movieId</th>\n",
              "      <th></th>\n",
              "      <th></th>\n",
              "      <th></th>\n",
              "    </tr>\n",
              "  </thead>\n",
              "  <tbody>\n",
              "    <tr>\n",
              "      <th>1</th>\n",
              "      <td>Toy Story (1995)</td>\n",
              "      <td>Adventure|Animation|Children|Comedy|Fantasy</td>\n",
              "      <td>215.0</td>\n",
              "    </tr>\n",
              "    <tr>\n",
              "      <th>2</th>\n",
              "      <td>Jumanji (1995)</td>\n",
              "      <td>Adventure|Children|Fantasy</td>\n",
              "      <td>110.0</td>\n",
              "    </tr>\n",
              "    <tr>\n",
              "      <th>3</th>\n",
              "      <td>Grumpier Old Men (1995)</td>\n",
              "      <td>Comedy|Romance</td>\n",
              "      <td>52.0</td>\n",
              "    </tr>\n",
              "    <tr>\n",
              "      <th>4</th>\n",
              "      <td>Waiting to Exhale (1995)</td>\n",
              "      <td>Comedy|Drama|Romance</td>\n",
              "      <td>7.0</td>\n",
              "    </tr>\n",
              "    <tr>\n",
              "      <th>5</th>\n",
              "      <td>Father of the Bride Part II (1995)</td>\n",
              "      <td>Comedy</td>\n",
              "      <td>49.0</td>\n",
              "    </tr>\n",
              "  </tbody>\n",
              "</table>\n",
              "</div>"
            ],
            "text/plain": [
              "                                      title  ... total_votes\n",
              "movieId                                      ...            \n",
              "1                          Toy Story (1995)  ...       215.0\n",
              "2                            Jumanji (1995)  ...       110.0\n",
              "3                   Grumpier Old Men (1995)  ...        52.0\n",
              "4                  Waiting to Exhale (1995)  ...         7.0\n",
              "5        Father of the Bride Part II (1995)  ...        49.0\n",
              "\n",
              "[5 rows x 3 columns]"
            ]
          },
          "metadata": {
            "tags": []
          },
          "execution_count": 7
        }
      ]
    },
    {
      "cell_type": "markdown",
      "metadata": {
        "id": "6VSexpVSCS8Q"
      },
      "source": [
        "### Recommendation by total votes"
      ]
    },
    {
      "cell_type": "code",
      "metadata": {
        "id": "fQtbGA1c2zXq",
        "outputId": "ce63e6ec-b41f-4378-bec1-67aa2a419e40",
        "colab": {
          "base_uri": "https://localhost:8080/",
          "height": 235
        }
      },
      "source": [
        "movies.sort_values('total_votes', ascending=False).head(5)"
      ],
      "execution_count": 8,
      "outputs": [
        {
          "output_type": "execute_result",
          "data": {
            "text/html": [
              "<div>\n",
              "<style scoped>\n",
              "    .dataframe tbody tr th:only-of-type {\n",
              "        vertical-align: middle;\n",
              "    }\n",
              "\n",
              "    .dataframe tbody tr th {\n",
              "        vertical-align: top;\n",
              "    }\n",
              "\n",
              "    .dataframe thead th {\n",
              "        text-align: right;\n",
              "    }\n",
              "</style>\n",
              "<table border=\"1\" class=\"dataframe\">\n",
              "  <thead>\n",
              "    <tr style=\"text-align: right;\">\n",
              "      <th></th>\n",
              "      <th>title</th>\n",
              "      <th>genres</th>\n",
              "      <th>total_votes</th>\n",
              "    </tr>\n",
              "    <tr>\n",
              "      <th>movieId</th>\n",
              "      <th></th>\n",
              "      <th></th>\n",
              "      <th></th>\n",
              "    </tr>\n",
              "  </thead>\n",
              "  <tbody>\n",
              "    <tr>\n",
              "      <th>356</th>\n",
              "      <td>Forrest Gump (1994)</td>\n",
              "      <td>Comedy|Drama|Romance|War</td>\n",
              "      <td>329.0</td>\n",
              "    </tr>\n",
              "    <tr>\n",
              "      <th>318</th>\n",
              "      <td>Shawshank Redemption, The (1994)</td>\n",
              "      <td>Crime|Drama</td>\n",
              "      <td>317.0</td>\n",
              "    </tr>\n",
              "    <tr>\n",
              "      <th>296</th>\n",
              "      <td>Pulp Fiction (1994)</td>\n",
              "      <td>Comedy|Crime|Drama|Thriller</td>\n",
              "      <td>307.0</td>\n",
              "    </tr>\n",
              "    <tr>\n",
              "      <th>593</th>\n",
              "      <td>Silence of the Lambs, The (1991)</td>\n",
              "      <td>Crime|Horror|Thriller</td>\n",
              "      <td>279.0</td>\n",
              "    </tr>\n",
              "    <tr>\n",
              "      <th>2571</th>\n",
              "      <td>Matrix, The (1999)</td>\n",
              "      <td>Action|Sci-Fi|Thriller</td>\n",
              "      <td>278.0</td>\n",
              "    </tr>\n",
              "  </tbody>\n",
              "</table>\n",
              "</div>"
            ],
            "text/plain": [
              "                                    title  ... total_votes\n",
              "movieId                                    ...            \n",
              "356                   Forrest Gump (1994)  ...       329.0\n",
              "318      Shawshank Redemption, The (1994)  ...       317.0\n",
              "296                   Pulp Fiction (1994)  ...       307.0\n",
              "593      Silence of the Lambs, The (1991)  ...       279.0\n",
              "2571                   Matrix, The (1999)  ...       278.0\n",
              "\n",
              "[5 rows x 3 columns]"
            ]
          },
          "metadata": {
            "tags": []
          },
          "execution_count": 8
        }
      ]
    },
    {
      "cell_type": "code",
      "metadata": {
        "id": "IlhSDVHq3o0D",
        "outputId": "6e93a7d5-bb94-4338-f9c0-994176b7a314",
        "colab": {
          "base_uri": "https://localhost:8080/",
          "height": 235
        }
      },
      "source": [
        "# define mean ratings\n",
        "mean_ratings = ratings.groupby('movieId').mean()['rating']\n",
        "movies['mean_rating'] = mean_ratings\n",
        "movies.head()"
      ],
      "execution_count": 9,
      "outputs": [
        {
          "output_type": "execute_result",
          "data": {
            "text/html": [
              "<div>\n",
              "<style scoped>\n",
              "    .dataframe tbody tr th:only-of-type {\n",
              "        vertical-align: middle;\n",
              "    }\n",
              "\n",
              "    .dataframe tbody tr th {\n",
              "        vertical-align: top;\n",
              "    }\n",
              "\n",
              "    .dataframe thead th {\n",
              "        text-align: right;\n",
              "    }\n",
              "</style>\n",
              "<table border=\"1\" class=\"dataframe\">\n",
              "  <thead>\n",
              "    <tr style=\"text-align: right;\">\n",
              "      <th></th>\n",
              "      <th>title</th>\n",
              "      <th>genres</th>\n",
              "      <th>total_votes</th>\n",
              "      <th>mean_rating</th>\n",
              "    </tr>\n",
              "    <tr>\n",
              "      <th>movieId</th>\n",
              "      <th></th>\n",
              "      <th></th>\n",
              "      <th></th>\n",
              "      <th></th>\n",
              "    </tr>\n",
              "  </thead>\n",
              "  <tbody>\n",
              "    <tr>\n",
              "      <th>1</th>\n",
              "      <td>Toy Story (1995)</td>\n",
              "      <td>Adventure|Animation|Children|Comedy|Fantasy</td>\n",
              "      <td>215.0</td>\n",
              "      <td>3.920930</td>\n",
              "    </tr>\n",
              "    <tr>\n",
              "      <th>2</th>\n",
              "      <td>Jumanji (1995)</td>\n",
              "      <td>Adventure|Children|Fantasy</td>\n",
              "      <td>110.0</td>\n",
              "      <td>3.431818</td>\n",
              "    </tr>\n",
              "    <tr>\n",
              "      <th>3</th>\n",
              "      <td>Grumpier Old Men (1995)</td>\n",
              "      <td>Comedy|Romance</td>\n",
              "      <td>52.0</td>\n",
              "      <td>3.259615</td>\n",
              "    </tr>\n",
              "    <tr>\n",
              "      <th>4</th>\n",
              "      <td>Waiting to Exhale (1995)</td>\n",
              "      <td>Comedy|Drama|Romance</td>\n",
              "      <td>7.0</td>\n",
              "      <td>2.357143</td>\n",
              "    </tr>\n",
              "    <tr>\n",
              "      <th>5</th>\n",
              "      <td>Father of the Bride Part II (1995)</td>\n",
              "      <td>Comedy</td>\n",
              "      <td>49.0</td>\n",
              "      <td>3.071429</td>\n",
              "    </tr>\n",
              "  </tbody>\n",
              "</table>\n",
              "</div>"
            ],
            "text/plain": [
              "                                      title  ... mean_rating\n",
              "movieId                                      ...            \n",
              "1                          Toy Story (1995)  ...    3.920930\n",
              "2                            Jumanji (1995)  ...    3.431818\n",
              "3                   Grumpier Old Men (1995)  ...    3.259615\n",
              "4                  Waiting to Exhale (1995)  ...    2.357143\n",
              "5        Father of the Bride Part II (1995)  ...    3.071429\n",
              "\n",
              "[5 rows x 4 columns]"
            ]
          },
          "metadata": {
            "tags": []
          },
          "execution_count": 9
        }
      ]
    },
    {
      "cell_type": "markdown",
      "metadata": {
        "id": "-5fBaXHiCKY_"
      },
      "source": [
        "### Recommendation by total votes and mean rating"
      ]
    },
    {
      "cell_type": "code",
      "metadata": {
        "id": "4mBocqTG4Aq6",
        "outputId": "aa213af6-3faa-4334-87d7-737bfeac6f74",
        "colab": {
          "base_uri": "https://localhost:8080/",
          "height": 235
        }
      },
      "source": [
        "movies.sort_values(['total_votes', 'mean_rating'], ascending=False).head(5)"
      ],
      "execution_count": 10,
      "outputs": [
        {
          "output_type": "execute_result",
          "data": {
            "text/html": [
              "<div>\n",
              "<style scoped>\n",
              "    .dataframe tbody tr th:only-of-type {\n",
              "        vertical-align: middle;\n",
              "    }\n",
              "\n",
              "    .dataframe tbody tr th {\n",
              "        vertical-align: top;\n",
              "    }\n",
              "\n",
              "    .dataframe thead th {\n",
              "        text-align: right;\n",
              "    }\n",
              "</style>\n",
              "<table border=\"1\" class=\"dataframe\">\n",
              "  <thead>\n",
              "    <tr style=\"text-align: right;\">\n",
              "      <th></th>\n",
              "      <th>title</th>\n",
              "      <th>genres</th>\n",
              "      <th>total_votes</th>\n",
              "      <th>mean_rating</th>\n",
              "    </tr>\n",
              "    <tr>\n",
              "      <th>movieId</th>\n",
              "      <th></th>\n",
              "      <th></th>\n",
              "      <th></th>\n",
              "      <th></th>\n",
              "    </tr>\n",
              "  </thead>\n",
              "  <tbody>\n",
              "    <tr>\n",
              "      <th>356</th>\n",
              "      <td>Forrest Gump (1994)</td>\n",
              "      <td>Comedy|Drama|Romance|War</td>\n",
              "      <td>329.0</td>\n",
              "      <td>4.164134</td>\n",
              "    </tr>\n",
              "    <tr>\n",
              "      <th>318</th>\n",
              "      <td>Shawshank Redemption, The (1994)</td>\n",
              "      <td>Crime|Drama</td>\n",
              "      <td>317.0</td>\n",
              "      <td>4.429022</td>\n",
              "    </tr>\n",
              "    <tr>\n",
              "      <th>296</th>\n",
              "      <td>Pulp Fiction (1994)</td>\n",
              "      <td>Comedy|Crime|Drama|Thriller</td>\n",
              "      <td>307.0</td>\n",
              "      <td>4.197068</td>\n",
              "    </tr>\n",
              "    <tr>\n",
              "      <th>593</th>\n",
              "      <td>Silence of the Lambs, The (1991)</td>\n",
              "      <td>Crime|Horror|Thriller</td>\n",
              "      <td>279.0</td>\n",
              "      <td>4.161290</td>\n",
              "    </tr>\n",
              "    <tr>\n",
              "      <th>2571</th>\n",
              "      <td>Matrix, The (1999)</td>\n",
              "      <td>Action|Sci-Fi|Thriller</td>\n",
              "      <td>278.0</td>\n",
              "      <td>4.192446</td>\n",
              "    </tr>\n",
              "  </tbody>\n",
              "</table>\n",
              "</div>"
            ],
            "text/plain": [
              "                                    title  ... mean_rating\n",
              "movieId                                    ...            \n",
              "356                   Forrest Gump (1994)  ...    4.164134\n",
              "318      Shawshank Redemption, The (1994)  ...    4.429022\n",
              "296                   Pulp Fiction (1994)  ...    4.197068\n",
              "593      Silence of the Lambs, The (1991)  ...    4.161290\n",
              "2571                   Matrix, The (1999)  ...    4.192446\n",
              "\n",
              "[5 rows x 4 columns]"
            ]
          },
          "metadata": {
            "tags": []
          },
          "execution_count": 10
        }
      ]
    },
    {
      "cell_type": "markdown",
      "metadata": {
        "id": "zQVtB4RfCekg"
      },
      "source": [
        "### Recommendation by mean rating and minimum number of votes threshold"
      ]
    },
    {
      "cell_type": "code",
      "metadata": {
        "id": "SMgV5dux5SE6",
        "outputId": "ec4fd27f-1db2-4525-b111-bdb44a24b1f1",
        "colab": {
          "base_uri": "https://localhost:8080/",
          "height": 235
        }
      },
      "source": [
        "# select most popular movies\n",
        "threshold = 50 # minimum number of voters\n",
        "movies_50 =  movies.query(f'total_votes >= {threshold}').sort_values('mean_rating', ascending=False)\n",
        "movies_50.head()"
      ],
      "execution_count": 11,
      "outputs": [
        {
          "output_type": "execute_result",
          "data": {
            "text/html": [
              "<div>\n",
              "<style scoped>\n",
              "    .dataframe tbody tr th:only-of-type {\n",
              "        vertical-align: middle;\n",
              "    }\n",
              "\n",
              "    .dataframe tbody tr th {\n",
              "        vertical-align: top;\n",
              "    }\n",
              "\n",
              "    .dataframe thead th {\n",
              "        text-align: right;\n",
              "    }\n",
              "</style>\n",
              "<table border=\"1\" class=\"dataframe\">\n",
              "  <thead>\n",
              "    <tr style=\"text-align: right;\">\n",
              "      <th></th>\n",
              "      <th>title</th>\n",
              "      <th>genres</th>\n",
              "      <th>total_votes</th>\n",
              "      <th>mean_rating</th>\n",
              "    </tr>\n",
              "    <tr>\n",
              "      <th>movieId</th>\n",
              "      <th></th>\n",
              "      <th></th>\n",
              "      <th></th>\n",
              "      <th></th>\n",
              "    </tr>\n",
              "  </thead>\n",
              "  <tbody>\n",
              "    <tr>\n",
              "      <th>318</th>\n",
              "      <td>Shawshank Redemption, The (1994)</td>\n",
              "      <td>Crime|Drama</td>\n",
              "      <td>317.0</td>\n",
              "      <td>4.429022</td>\n",
              "    </tr>\n",
              "    <tr>\n",
              "      <th>858</th>\n",
              "      <td>Godfather, The (1972)</td>\n",
              "      <td>Crime|Drama</td>\n",
              "      <td>192.0</td>\n",
              "      <td>4.289062</td>\n",
              "    </tr>\n",
              "    <tr>\n",
              "      <th>2959</th>\n",
              "      <td>Fight Club (1999)</td>\n",
              "      <td>Action|Crime|Drama|Thriller</td>\n",
              "      <td>218.0</td>\n",
              "      <td>4.272936</td>\n",
              "    </tr>\n",
              "    <tr>\n",
              "      <th>1276</th>\n",
              "      <td>Cool Hand Luke (1967)</td>\n",
              "      <td>Drama</td>\n",
              "      <td>57.0</td>\n",
              "      <td>4.271930</td>\n",
              "    </tr>\n",
              "    <tr>\n",
              "      <th>750</th>\n",
              "      <td>Dr. Strangelove or: How I Learned to Stop Worr...</td>\n",
              "      <td>Comedy|War</td>\n",
              "      <td>97.0</td>\n",
              "      <td>4.268041</td>\n",
              "    </tr>\n",
              "  </tbody>\n",
              "</table>\n",
              "</div>"
            ],
            "text/plain": [
              "                                                     title  ... mean_rating\n",
              "movieId                                                     ...            \n",
              "318                       Shawshank Redemption, The (1994)  ...    4.429022\n",
              "858                                  Godfather, The (1972)  ...    4.289062\n",
              "2959                                     Fight Club (1999)  ...    4.272936\n",
              "1276                                 Cool Hand Luke (1967)  ...    4.271930\n",
              "750      Dr. Strangelove or: How I Learned to Stop Worr...  ...    4.268041\n",
              "\n",
              "[5 rows x 4 columns]"
            ]
          },
          "metadata": {
            "tags": []
          },
          "execution_count": 11
        }
      ]
    },
    {
      "cell_type": "markdown",
      "metadata": {
        "id": "W9FlTEGA7LTS"
      },
      "source": [
        "## User-based recommendation"
      ]
    },
    {
      "cell_type": "code",
      "metadata": {
        "id": "PJcaULE57PKY",
        "outputId": "02f1eaf5-8b26-4d60-cf76-0e1d77a91d33",
        "colab": {
          "base_uri": "https://localhost:8080/",
          "height": 297
        }
      },
      "source": [
        "# define movies watched by the user\n",
        "watched = [1, 21, 19, 10, 11, 7, 2]\n",
        "movies.loc[watched]"
      ],
      "execution_count": 12,
      "outputs": [
        {
          "output_type": "execute_result",
          "data": {
            "text/html": [
              "<div>\n",
              "<style scoped>\n",
              "    .dataframe tbody tr th:only-of-type {\n",
              "        vertical-align: middle;\n",
              "    }\n",
              "\n",
              "    .dataframe tbody tr th {\n",
              "        vertical-align: top;\n",
              "    }\n",
              "\n",
              "    .dataframe thead th {\n",
              "        text-align: right;\n",
              "    }\n",
              "</style>\n",
              "<table border=\"1\" class=\"dataframe\">\n",
              "  <thead>\n",
              "    <tr style=\"text-align: right;\">\n",
              "      <th></th>\n",
              "      <th>title</th>\n",
              "      <th>genres</th>\n",
              "      <th>total_votes</th>\n",
              "      <th>mean_rating</th>\n",
              "    </tr>\n",
              "    <tr>\n",
              "      <th>movieId</th>\n",
              "      <th></th>\n",
              "      <th></th>\n",
              "      <th></th>\n",
              "      <th></th>\n",
              "    </tr>\n",
              "  </thead>\n",
              "  <tbody>\n",
              "    <tr>\n",
              "      <th>1</th>\n",
              "      <td>Toy Story (1995)</td>\n",
              "      <td>Adventure|Animation|Children|Comedy|Fantasy</td>\n",
              "      <td>215.0</td>\n",
              "      <td>3.920930</td>\n",
              "    </tr>\n",
              "    <tr>\n",
              "      <th>21</th>\n",
              "      <td>Get Shorty (1995)</td>\n",
              "      <td>Comedy|Crime|Thriller</td>\n",
              "      <td>89.0</td>\n",
              "      <td>3.494382</td>\n",
              "    </tr>\n",
              "    <tr>\n",
              "      <th>19</th>\n",
              "      <td>Ace Ventura: When Nature Calls (1995)</td>\n",
              "      <td>Comedy</td>\n",
              "      <td>88.0</td>\n",
              "      <td>2.727273</td>\n",
              "    </tr>\n",
              "    <tr>\n",
              "      <th>10</th>\n",
              "      <td>GoldenEye (1995)</td>\n",
              "      <td>Action|Adventure|Thriller</td>\n",
              "      <td>132.0</td>\n",
              "      <td>3.496212</td>\n",
              "    </tr>\n",
              "    <tr>\n",
              "      <th>11</th>\n",
              "      <td>American President, The (1995)</td>\n",
              "      <td>Comedy|Drama|Romance</td>\n",
              "      <td>70.0</td>\n",
              "      <td>3.671429</td>\n",
              "    </tr>\n",
              "    <tr>\n",
              "      <th>7</th>\n",
              "      <td>Sabrina (1995)</td>\n",
              "      <td>Comedy|Romance</td>\n",
              "      <td>54.0</td>\n",
              "      <td>3.185185</td>\n",
              "    </tr>\n",
              "    <tr>\n",
              "      <th>2</th>\n",
              "      <td>Jumanji (1995)</td>\n",
              "      <td>Adventure|Children|Fantasy</td>\n",
              "      <td>110.0</td>\n",
              "      <td>3.431818</td>\n",
              "    </tr>\n",
              "  </tbody>\n",
              "</table>\n",
              "</div>"
            ],
            "text/plain": [
              "                                         title  ... mean_rating\n",
              "movieId                                         ...            \n",
              "1                             Toy Story (1995)  ...    3.920930\n",
              "21                           Get Shorty (1995)  ...    3.494382\n",
              "19       Ace Ventura: When Nature Calls (1995)  ...    2.727273\n",
              "10                            GoldenEye (1995)  ...    3.496212\n",
              "11              American President, The (1995)  ...    3.671429\n",
              "7                               Sabrina (1995)  ...    3.185185\n",
              "2                               Jumanji (1995)  ...    3.431818\n",
              "\n",
              "[7 rows x 4 columns]"
            ]
          },
          "metadata": {
            "tags": []
          },
          "execution_count": 12
        }
      ]
    },
    {
      "cell_type": "markdown",
      "metadata": {
        "id": "4B1xUvF1DAlI"
      },
      "source": [
        "### Recommendation based on user-defined genre and popularity"
      ]
    },
    {
      "cell_type": "code",
      "metadata": {
        "id": "MPPB7UHz7W_y",
        "outputId": "b95c7edd-400b-4ac8-b6f7-a81d8285b2e4",
        "colab": {
          "base_uri": "https://localhost:8080/",
          "height": 173
        }
      },
      "source": [
        "# select movie by genre and from the top 50\n",
        "genre = 'Adventure|Children|Fantasy' # recommendation genres\n",
        "search=f'genres==\"{genre}\"'\n",
        "movies_50.query(search).sort_values('mean_rating', ascending=False)"
      ],
      "execution_count": 13,
      "outputs": [
        {
          "output_type": "execute_result",
          "data": {
            "text/html": [
              "<div>\n",
              "<style scoped>\n",
              "    .dataframe tbody tr th:only-of-type {\n",
              "        vertical-align: middle;\n",
              "    }\n",
              "\n",
              "    .dataframe tbody tr th {\n",
              "        vertical-align: top;\n",
              "    }\n",
              "\n",
              "    .dataframe thead th {\n",
              "        text-align: right;\n",
              "    }\n",
              "</style>\n",
              "<table border=\"1\" class=\"dataframe\">\n",
              "  <thead>\n",
              "    <tr style=\"text-align: right;\">\n",
              "      <th></th>\n",
              "      <th>title</th>\n",
              "      <th>genres</th>\n",
              "      <th>total_votes</th>\n",
              "      <th>mean_rating</th>\n",
              "    </tr>\n",
              "    <tr>\n",
              "      <th>movieId</th>\n",
              "      <th></th>\n",
              "      <th></th>\n",
              "      <th></th>\n",
              "      <th></th>\n",
              "    </tr>\n",
              "  </thead>\n",
              "  <tbody>\n",
              "    <tr>\n",
              "      <th>4896</th>\n",
              "      <td>Harry Potter and the Sorcerer's Stone (a.k.a. ...</td>\n",
              "      <td>Adventure|Children|Fantasy</td>\n",
              "      <td>107.0</td>\n",
              "      <td>3.761682</td>\n",
              "    </tr>\n",
              "    <tr>\n",
              "      <th>41566</th>\n",
              "      <td>Chronicles of Narnia: The Lion, the Witch and ...</td>\n",
              "      <td>Adventure|Children|Fantasy</td>\n",
              "      <td>62.0</td>\n",
              "      <td>3.443548</td>\n",
              "    </tr>\n",
              "    <tr>\n",
              "      <th>2</th>\n",
              "      <td>Jumanji (1995)</td>\n",
              "      <td>Adventure|Children|Fantasy</td>\n",
              "      <td>110.0</td>\n",
              "      <td>3.431818</td>\n",
              "    </tr>\n",
              "  </tbody>\n",
              "</table>\n",
              "</div>"
            ],
            "text/plain": [
              "                                                     title  ... mean_rating\n",
              "movieId                                                     ...            \n",
              "4896     Harry Potter and the Sorcerer's Stone (a.k.a. ...  ...    3.761682\n",
              "41566    Chronicles of Narnia: The Lion, the Witch and ...  ...    3.443548\n",
              "2                                           Jumanji (1995)  ...    3.431818\n",
              "\n",
              "[3 rows x 4 columns]"
            ]
          },
          "metadata": {
            "tags": []
          },
          "execution_count": 13
        }
      ]
    },
    {
      "cell_type": "code",
      "metadata": {
        "id": "FZXtRLVO7tkU",
        "outputId": "6974dfb8-46fc-4dfa-f4b3-65bb7bc6c144",
        "colab": {
          "base_uri": "https://localhost:8080/",
          "height": 142
        }
      },
      "source": [
        "# redo steps but remove movies watched by the user\n",
        "movies_50\\\n",
        "  .drop(watched)\\\n",
        "  .query(search)\\\n",
        "  .sort_values('mean_rating', ascending=False)"
      ],
      "execution_count": 14,
      "outputs": [
        {
          "output_type": "execute_result",
          "data": {
            "text/html": [
              "<div>\n",
              "<style scoped>\n",
              "    .dataframe tbody tr th:only-of-type {\n",
              "        vertical-align: middle;\n",
              "    }\n",
              "\n",
              "    .dataframe tbody tr th {\n",
              "        vertical-align: top;\n",
              "    }\n",
              "\n",
              "    .dataframe thead th {\n",
              "        text-align: right;\n",
              "    }\n",
              "</style>\n",
              "<table border=\"1\" class=\"dataframe\">\n",
              "  <thead>\n",
              "    <tr style=\"text-align: right;\">\n",
              "      <th></th>\n",
              "      <th>title</th>\n",
              "      <th>genres</th>\n",
              "      <th>total_votes</th>\n",
              "      <th>mean_rating</th>\n",
              "    </tr>\n",
              "    <tr>\n",
              "      <th>movieId</th>\n",
              "      <th></th>\n",
              "      <th></th>\n",
              "      <th></th>\n",
              "      <th></th>\n",
              "    </tr>\n",
              "  </thead>\n",
              "  <tbody>\n",
              "    <tr>\n",
              "      <th>4896</th>\n",
              "      <td>Harry Potter and the Sorcerer's Stone (a.k.a. ...</td>\n",
              "      <td>Adventure|Children|Fantasy</td>\n",
              "      <td>107.0</td>\n",
              "      <td>3.761682</td>\n",
              "    </tr>\n",
              "    <tr>\n",
              "      <th>41566</th>\n",
              "      <td>Chronicles of Narnia: The Lion, the Witch and ...</td>\n",
              "      <td>Adventure|Children|Fantasy</td>\n",
              "      <td>62.0</td>\n",
              "      <td>3.443548</td>\n",
              "    </tr>\n",
              "  </tbody>\n",
              "</table>\n",
              "</div>"
            ],
            "text/plain": [
              "                                                     title  ... mean_rating\n",
              "movieId                                                     ...            \n",
              "4896     Harry Potter and the Sorcerer's Stone (a.k.a. ...  ...    3.761682\n",
              "41566    Chronicles of Narnia: The Lion, the Witch and ...  ...    3.443548\n",
              "\n",
              "[2 rows x 4 columns]"
            ]
          },
          "metadata": {
            "tags": []
          },
          "execution_count": 14
        }
      ]
    },
    {
      "cell_type": "markdown",
      "metadata": {
        "id": "OkI2niLCBO72"
      },
      "source": [
        "# Euclidian Distance"
      ]
    },
    {
      "cell_type": "markdown",
      "metadata": {
        "id": "-0aITZCUIICL"
      },
      "source": [
        "## Search for users with similar movie interests"
      ]
    },
    {
      "cell_type": "markdown",
      "metadata": {
        "id": "4Hlei03aRZHb"
      },
      "source": [
        "### Calculating the theoretical distance between 2 subjects\n",
        "We'll use the absolute value for the distance between 2 subjects:\n",
        "$$ abs(A-B) = abs(B-A)$$"
      ]
    },
    {
      "cell_type": "code",
      "metadata": {
        "id": "Ms18AqfAPlN_"
      },
      "source": [
        "import numpy as np\n",
        "import matplotlib.pyplot as plt"
      ],
      "execution_count": 15,
      "outputs": []
    },
    {
      "cell_type": "code",
      "metadata": {
        "id": "Xhf8S-bWJhW8",
        "outputId": "8707e053-cb54-48ff-f244-ff1383a965ec",
        "colab": {
          "base_uri": "https://localhost:8080/",
          "height": 281
        }
      },
      "source": [
        "pos_a = np.array([4, 4.5])\n",
        "pos_b = np.array([5, 5])\n",
        "\n",
        "plt.plot(4, 4.5, 'go', label='Subject A')\n",
        "plt.plot(5, 5, 'yo', label='Subject B')\n",
        "plt.plot([4, 5], [4.5, 5], linestyle='--', label='Distance')\n",
        "plt.legend()\n",
        "plt.title('Distance between 2 subjects');"
      ],
      "execution_count": 16,
      "outputs": [
        {
          "output_type": "display_data",
          "data": {
            "image/png": "[encoded data removed]",
            "text/plain": [
              "<Figure size 432x288 with 1 Axes>"
            ]
          },
          "metadata": {
            "tags": [],
            "needs_background": "light"
          }
        }
      ]
    },
    {
      "cell_type": "code",
      "metadata": {
        "id": "1j57CCA4J23g"
      },
      "source": [
        "def distance(a,b):\n",
        "  (delta_x, delta_y) = a - b\n",
        "  \n",
        "  return (delta_x ** 2 + delta_y ** 2) ** (1/2)"
      ],
      "execution_count": 17,
      "outputs": []
    },
    {
      "cell_type": "code",
      "metadata": {
        "id": "zYFjRx-RQjbE",
        "outputId": "b4b3168b-b51f-4073-ac60-ceb6a6ef916d",
        "colab": {
          "base_uri": "https://localhost:8080/"
        }
      },
      "source": [
        "distance(pos_a, pos_b)"
      ],
      "execution_count": 18,
      "outputs": [
        {
          "output_type": "execute_result",
          "data": {
            "text/plain": [
              "1.118033988749895"
            ]
          },
          "metadata": {
            "tags": []
          },
          "execution_count": 18
        }
      ]
    },
    {
      "cell_type": "code",
      "metadata": {
        "id": "mpl9oO-DQk-C",
        "outputId": "8c42b218-7e6c-44d7-bce1-1894473fe6cf",
        "colab": {
          "base_uri": "https://localhost:8080/"
        }
      },
      "source": [
        "np.linalg.norm(pos_a - pos_b)"
      ],
      "execution_count": 19,
      "outputs": [
        {
          "output_type": "execute_result",
          "data": {
            "text/plain": [
              "1.118033988749895"
            ]
          },
          "metadata": {
            "tags": []
          },
          "execution_count": 19
        }
      ]
    },
    {
      "cell_type": "code",
      "metadata": {
        "id": "NphwFabfQ23e",
        "outputId": "1c687845-3b9f-4431-a8f9-3f736c1d118d",
        "colab": {
          "base_uri": "https://localhost:8080/"
        }
      },
      "source": [
        "np.linalg.norm(pos_b - pos_a)"
      ],
      "execution_count": 20,
      "outputs": [
        {
          "output_type": "execute_result",
          "data": {
            "text/plain": [
              "1.118033988749895"
            ]
          },
          "metadata": {
            "tags": []
          },
          "execution_count": 20
        }
      ]
    },
    {
      "cell_type": "markdown",
      "metadata": {
        "id": "_lBSdreSQ9d7"
      },
      "source": [
        "### Calculating the distance between 2 users"
      ]
    },
    {
      "cell_type": "code",
      "metadata": {
        "id": "fIDsmR66R_uz"
      },
      "source": [
        "def user_ratings(user):\n",
        "  user_ratings = ratings.query(f'userId=={user}')\n",
        "  \n",
        "  return user_ratings[['movieId', 'rating']].set_index('movieId')"
      ],
      "execution_count": 21,
      "outputs": []
    },
    {
      "cell_type": "markdown",
      "metadata": {
        "id": "Sz_Tng5nay0d"
      },
      "source": [
        "### How far are users 1 and 4?\n"
      ]
    },
    {
      "cell_type": "code",
      "metadata": {
        "id": "hgd8ozasSEot"
      },
      "source": [
        "# define user ratings\n",
        "user_1 = user_ratings(1)\n",
        "user_4 = user_ratings(4)"
      ],
      "execution_count": 22,
      "outputs": []
    },
    {
      "cell_type": "code",
      "metadata": {
        "id": "SLr6kGIlS0Yi"
      },
      "source": [
        "compare_ratings = user_1.join(user_4, lsuffix='_1', rsuffix='_4').dropna()"
      ],
      "execution_count": 23,
      "outputs": []
    },
    {
      "cell_type": "code",
      "metadata": {
        "id": "UfqRzlV7U1Fb",
        "outputId": "2d3e3dab-5c0d-4542-8b41-139203f24501",
        "colab": {
          "base_uri": "https://localhost:8080/",
          "height": 235
        }
      },
      "source": [
        "compare_ratings.head()"
      ],
      "execution_count": 24,
      "outputs": [
        {
          "output_type": "execute_result",
          "data": {
            "text/html": [
              "<div>\n",
              "<style scoped>\n",
              "    .dataframe tbody tr th:only-of-type {\n",
              "        vertical-align: middle;\n",
              "    }\n",
              "\n",
              "    .dataframe tbody tr th {\n",
              "        vertical-align: top;\n",
              "    }\n",
              "\n",
              "    .dataframe thead th {\n",
              "        text-align: right;\n",
              "    }\n",
              "</style>\n",
              "<table border=\"1\" class=\"dataframe\">\n",
              "  <thead>\n",
              "    <tr style=\"text-align: right;\">\n",
              "      <th></th>\n",
              "      <th>rating_1</th>\n",
              "      <th>rating_4</th>\n",
              "    </tr>\n",
              "    <tr>\n",
              "      <th>movieId</th>\n",
              "      <th></th>\n",
              "      <th></th>\n",
              "    </tr>\n",
              "  </thead>\n",
              "  <tbody>\n",
              "    <tr>\n",
              "      <th>47</th>\n",
              "      <td>5.0</td>\n",
              "      <td>2.0</td>\n",
              "    </tr>\n",
              "    <tr>\n",
              "      <th>235</th>\n",
              "      <td>4.0</td>\n",
              "      <td>2.0</td>\n",
              "    </tr>\n",
              "    <tr>\n",
              "      <th>260</th>\n",
              "      <td>5.0</td>\n",
              "      <td>5.0</td>\n",
              "    </tr>\n",
              "    <tr>\n",
              "      <th>296</th>\n",
              "      <td>3.0</td>\n",
              "      <td>1.0</td>\n",
              "    </tr>\n",
              "    <tr>\n",
              "      <th>441</th>\n",
              "      <td>4.0</td>\n",
              "      <td>1.0</td>\n",
              "    </tr>\n",
              "  </tbody>\n",
              "</table>\n",
              "</div>"
            ],
            "text/plain": [
              "         rating_1  rating_4\n",
              "movieId                    \n",
              "47            5.0       2.0\n",
              "235           4.0       2.0\n",
              "260           5.0       5.0\n",
              "296           3.0       1.0\n",
              "441           4.0       1.0"
            ]
          },
          "metadata": {
            "tags": []
          },
          "execution_count": 24
        }
      ]
    },
    {
      "cell_type": "code",
      "metadata": {
        "id": "BbDvlXgyWNxN",
        "outputId": "cae64023-699b-422e-b815-69d0f1f4e1bd",
        "colab": {
          "base_uri": "https://localhost:8080/"
        }
      },
      "source": [
        "compare_1 = compare_ratings['rating_1']\n",
        "compare_4 = compare_ratings['rating_4']\n",
        "\n",
        "# absolute distance between 2 vectors\n",
        "np.linalg.norm(compare_1 - compare_4) == np.linalg.norm(compare_4 - compare_1)"
      ],
      "execution_count": 25,
      "outputs": [
        {
          "output_type": "execute_result",
          "data": {
            "text/plain": [
              "True"
            ]
          },
          "metadata": {
            "tags": []
          },
          "execution_count": 25
        }
      ]
    },
    {
      "cell_type": "code",
      "metadata": {
        "id": "N-O8kUhAZCq6",
        "outputId": "81685cd6-67a7-4518-aba5-56c798f1d701",
        "colab": {
          "base_uri": "https://localhost:8080/"
        }
      },
      "source": [
        "np.linalg.norm(compare_1 - compare_4)"
      ],
      "execution_count": 26,
      "outputs": [
        {
          "output_type": "execute_result",
          "data": {
            "text/plain": [
              "11.135528725660043"
            ]
          },
          "metadata": {
            "tags": []
          },
          "execution_count": 26
        }
      ]
    },
    {
      "cell_type": "markdown",
      "metadata": {
        "id": "5xpCSbuMixQs"
      },
      "source": [
        "## Define the distance between 2 users"
      ]
    },
    {
      "cell_type": "code",
      "metadata": {
        "id": "eMBEmZIlX9zP"
      },
      "source": [
        "def distance_between_users(id_1, id_2, min_ratings=5):\n",
        "  \"\"\"return a list with the absolute distance between similar entities from 2 users\"\"\"\n",
        "  ratings_1 = user_ratings(id_1)\n",
        "  ratings_2 = user_ratings(id_2)\n",
        "\n",
        "  compare_ratings = ratings_1.join(ratings_2, lsuffix='_1', rsuffix='_2').dropna()\n",
        "\n",
        "  if(len(compare_ratings) < min_ratings):\n",
        "    return [id_1, id_2, 100000]\n",
        "\n",
        "  compare_1 = compare_ratings['rating_1']\n",
        "  compare_2 = compare_ratings['rating_2']\n",
        "  distance = np.linalg.norm(compare_1 - compare_2)\n",
        "\n",
        "  return [id_1, id_2, distance.round(4)]"
      ],
      "execution_count": 27,
      "outputs": []
    },
    {
      "cell_type": "code",
      "metadata": {
        "id": "YOAF01hLZFHN",
        "outputId": "e4dc3540-bf66-4b56-ba6c-62eb4fb65b07",
        "colab": {
          "base_uri": "https://localhost:8080/"
        }
      },
      "source": [
        "distance_between_users(1, 4)"
      ],
      "execution_count": 28,
      "outputs": [
        {
          "output_type": "execute_result",
          "data": {
            "text/plain": [
              "[1, 4, 11.1355]"
            ]
          },
          "metadata": {
            "tags": []
          },
          "execution_count": 28
        }
      ]
    },
    {
      "cell_type": "code",
      "metadata": {
        "id": "aGQdLERRd8Ge"
      },
      "source": [
        "def relative_distances(id):\n",
        "  users = ratings['userId'].unique()\n",
        "  users = users[users != id]\n",
        "  distances = [distance_between_users(id, user_id) for user_id in users]\n",
        "\n",
        "  return pd.DataFrame(distances, columns=['my_id', 'user_id', 'distance'])"
      ],
      "execution_count": 29,
      "outputs": []
    },
    {
      "cell_type": "code",
      "metadata": {
        "id": "Tgs0KPTQeqXc"
      },
      "source": [
        "distances_1 = relative_distances(1)"
      ],
      "execution_count": 30,
      "outputs": []
    },
    {
      "cell_type": "code",
      "metadata": {
        "id": "H3nqjPeVfkjW",
        "outputId": "ef59e39b-00af-4210-da11-ede6613041c9",
        "colab": {
          "base_uri": "https://localhost:8080/",
          "height": 80
        }
      },
      "source": [
        "distances_1.query('distance==0')"
      ],
      "execution_count": 31,
      "outputs": [
        {
          "output_type": "execute_result",
          "data": {
            "text/html": [
              "<div>\n",
              "<style scoped>\n",
              "    .dataframe tbody tr th:only-of-type {\n",
              "        vertical-align: middle;\n",
              "    }\n",
              "\n",
              "    .dataframe tbody tr th {\n",
              "        vertical-align: top;\n",
              "    }\n",
              "\n",
              "    .dataframe thead th {\n",
              "        text-align: right;\n",
              "    }\n",
              "</style>\n",
              "<table border=\"1\" class=\"dataframe\">\n",
              "  <thead>\n",
              "    <tr style=\"text-align: right;\">\n",
              "      <th></th>\n",
              "      <th>my_id</th>\n",
              "      <th>user_id</th>\n",
              "      <th>distance</th>\n",
              "    </tr>\n",
              "  </thead>\n",
              "  <tbody>\n",
              "    <tr>\n",
              "      <th>75</th>\n",
              "      <td>1</td>\n",
              "      <td>77</td>\n",
              "      <td>0.0</td>\n",
              "    </tr>\n",
              "  </tbody>\n",
              "</table>\n",
              "</div>"
            ],
            "text/plain": [
              "    my_id  user_id  distance\n",
              "75      1       77       0.0"
            ]
          },
          "metadata": {
            "tags": []
          },
          "execution_count": 31
        }
      ]
    },
    {
      "cell_type": "code",
      "metadata": {
        "id": "hpkzWSIAj-er"
      },
      "source": [
        "def users_by_distance(id):\n",
        "  distances = relative_distances(id)\n",
        "  distances = distances.sort_values('distance')\n",
        "  distances = distances.set_index('user_id')\n",
        "\n",
        "  return distances"
      ],
      "execution_count": 32,
      "outputs": []
    },
    {
      "cell_type": "code",
      "metadata": {
        "id": "VNvaCZDQkz3B",
        "outputId": "a62a2f1e-0531-4238-8341-ff50f5293f0e",
        "colab": {
          "base_uri": "https://localhost:8080/",
          "height": 235
        }
      },
      "source": [
        "users_by_distance(1).head()"
      ],
      "execution_count": 33,
      "outputs": [
        {
          "output_type": "execute_result",
          "data": {
            "text/html": [
              "<div>\n",
              "<style scoped>\n",
              "    .dataframe tbody tr th:only-of-type {\n",
              "        vertical-align: middle;\n",
              "    }\n",
              "\n",
              "    .dataframe tbody tr th {\n",
              "        vertical-align: top;\n",
              "    }\n",
              "\n",
              "    .dataframe thead th {\n",
              "        text-align: right;\n",
              "    }\n",
              "</style>\n",
              "<table border=\"1\" class=\"dataframe\">\n",
              "  <thead>\n",
              "    <tr style=\"text-align: right;\">\n",
              "      <th></th>\n",
              "      <th>my_id</th>\n",
              "      <th>distance</th>\n",
              "    </tr>\n",
              "    <tr>\n",
              "      <th>user_id</th>\n",
              "      <th></th>\n",
              "      <th></th>\n",
              "    </tr>\n",
              "  </thead>\n",
              "  <tbody>\n",
              "    <tr>\n",
              "      <th>77</th>\n",
              "      <td>1</td>\n",
              "      <td>0.0000</td>\n",
              "    </tr>\n",
              "    <tr>\n",
              "      <th>511</th>\n",
              "      <td>1</td>\n",
              "      <td>0.5000</td>\n",
              "    </tr>\n",
              "    <tr>\n",
              "      <th>366</th>\n",
              "      <td>1</td>\n",
              "      <td>0.7071</td>\n",
              "    </tr>\n",
              "    <tr>\n",
              "      <th>258</th>\n",
              "      <td>1</td>\n",
              "      <td>1.0000</td>\n",
              "    </tr>\n",
              "    <tr>\n",
              "      <th>49</th>\n",
              "      <td>1</td>\n",
              "      <td>1.0000</td>\n",
              "    </tr>\n",
              "  </tbody>\n",
              "</table>\n",
              "</div>"
            ],
            "text/plain": [
              "         my_id  distance\n",
              "user_id                 \n",
              "77           1    0.0000\n",
              "511          1    0.5000\n",
              "366          1    0.7071\n",
              "258          1    1.0000\n",
              "49           1    1.0000"
            ]
          },
          "metadata": {
            "tags": []
          },
          "execution_count": 33
        }
      ]
    },
    {
      "cell_type": "markdown",
      "metadata": {
        "id": "ScoYh_cEmGMm"
      },
      "source": [
        "# Testing Parameters"
      ]
    },
    {
      "cell_type": "markdown",
      "metadata": {
        "id": "GOq6SjbWwYMz"
      },
      "source": [
        "## Redefining the previous functions to work for a test environment"
      ]
    },
    {
      "cell_type": "code",
      "metadata": {
        "id": "IOQtvsUjpDcl"
      },
      "source": [
        "def single_distance_between_users(id_1, id_2, min_movies_rated=5):\n",
        "  \"\"\"return a list with the absolute distance between the comparison of existing movies from 2 users\"\"\"\n",
        "  ratings_1 = user_ratings(id_1)\n",
        "  ratings_2 = user_ratings(id_2)\n",
        "\n",
        "  compare_ratings = ratings_1.join(ratings_2, lsuffix='_1', rsuffix='_2').dropna()\n",
        "\n",
        "  if(len(compare_ratings) < min_movies_rated):\n",
        "    return None\n",
        "\n",
        "  compare_1 = compare_ratings['rating_1']\n",
        "  compare_2 = compare_ratings['rating_2']\n",
        "  distance = np.linalg.norm(compare_1 - compare_2)\n",
        "\n",
        "  return [id_1, id_2, distance.round(4)]"
      ],
      "execution_count": 34,
      "outputs": []
    },
    {
      "cell_type": "code",
      "metadata": {
        "id": "nFFJT_eCnMik"
      },
      "source": [
        "def distances_dataframe(id, n_comparisons=None):\n",
        "  \"\"\"return a dataframe for all distances comparison\"\"\"\n",
        "  users = ratings['userId'].unique()\n",
        "  users = users[users != id]\n",
        "\n",
        "  if n_comparisons:\n",
        "    users = users[:n_comparisons]\n",
        "\n",
        "  distances = [single_distance_between_users(id, user_id) for user_id in users]\n",
        "  \n",
        "  distances = list(filter(None, distances)) # remove None from distances\n",
        "\n",
        "  return pd.DataFrame(distances, columns=['my_id', 'user_id', 'distance'])"
      ],
      "execution_count": 35,
      "outputs": []
    },
    {
      "cell_type": "code",
      "metadata": {
        "id": "d0bOu4jmmiAn"
      },
      "source": [
        "def sort_users_by_distance(id, n_comparisons=None):\n",
        "  \"\"\"sort users by how close they are\"\"\"\n",
        "  distances = distances_dataframe(id, n_comparisons)\n",
        "  distances = distances.sort_values('distance')\n",
        "  distances = distances.set_index('user_id')\n",
        "\n",
        "  return distances"
      ],
      "execution_count": 36,
      "outputs": []
    },
    {
      "cell_type": "markdown",
      "metadata": {
        "id": "fgzs6IFVv6lL"
      },
      "source": [
        "## Compare distance between all users, find the closest one and recommend a movie based on his suggestions"
      ]
    },
    {
      "cell_type": "code",
      "metadata": {
        "id": "hmR1vfWqnjrZ"
      },
      "source": [
        "def recommendation_from_nearest(id, n_comparisons=None):\n",
        "  \"\"\"the nearest user recommends a movie for the given id\"\"\"\n",
        "  my_ratings = user_ratings(id)\n",
        "\n",
        "  similar = sort_users_by_distance(id, n_comparisons)\n",
        "  most_similar = similar.iloc[0]\n",
        "  most_similar_name = most_similar.name\n",
        "  most_similar_ratings = user_ratings(most_similar_name)\n",
        "\n",
        "  not_watched = most_similar_ratings.drop(my_ratings.index, errors='ignore')\n",
        "  not_watched = not_watched.sort_values('rating', ascending=False)\n",
        "\n",
        "  recommendation = not_watched.join(movies)\n",
        "\n",
        "  return recommendation"
      ],
      "execution_count": 37,
      "outputs": []
    },
    {
      "cell_type": "code",
      "metadata": {
        "id": "eYLLHOlLsFPJ",
        "outputId": "4120b3d4-7004-4026-fbfa-f76c0b9688db",
        "colab": {
          "base_uri": "https://localhost:8080/",
          "height": 235
        }
      },
      "source": [
        "recommendation_from_nearest(1).head()"
      ],
      "execution_count": 38,
      "outputs": [
        {
          "output_type": "execute_result",
          "data": {
            "text/html": [
              "<div>\n",
              "<style scoped>\n",
              "    .dataframe tbody tr th:only-of-type {\n",
              "        vertical-align: middle;\n",
              "    }\n",
              "\n",
              "    .dataframe tbody tr th {\n",
              "        vertical-align: top;\n",
              "    }\n",
              "\n",
              "    .dataframe thead th {\n",
              "        text-align: right;\n",
              "    }\n",
              "</style>\n",
              "<table border=\"1\" class=\"dataframe\">\n",
              "  <thead>\n",
              "    <tr style=\"text-align: right;\">\n",
              "      <th></th>\n",
              "      <th>rating</th>\n",
              "      <th>title</th>\n",
              "      <th>genres</th>\n",
              "      <th>total_votes</th>\n",
              "      <th>mean_rating</th>\n",
              "    </tr>\n",
              "    <tr>\n",
              "      <th>movieId</th>\n",
              "      <th></th>\n",
              "      <th></th>\n",
              "      <th></th>\n",
              "      <th></th>\n",
              "      <th></th>\n",
              "    </tr>\n",
              "  </thead>\n",
              "  <tbody>\n",
              "    <tr>\n",
              "      <th>8636</th>\n",
              "      <td>5.0</td>\n",
              "      <td>Spider-Man 2 (2004)</td>\n",
              "      <td>Action|Adventure|Sci-Fi|IMAX</td>\n",
              "      <td>79.0</td>\n",
              "      <td>3.803797</td>\n",
              "    </tr>\n",
              "    <tr>\n",
              "      <th>58559</th>\n",
              "      <td>5.0</td>\n",
              "      <td>Dark Knight, The (2008)</td>\n",
              "      <td>Action|Crime|Drama|IMAX</td>\n",
              "      <td>149.0</td>\n",
              "      <td>4.238255</td>\n",
              "    </tr>\n",
              "    <tr>\n",
              "      <th>33794</th>\n",
              "      <td>5.0</td>\n",
              "      <td>Batman Begins (2005)</td>\n",
              "      <td>Action|Crime|IMAX</td>\n",
              "      <td>116.0</td>\n",
              "      <td>3.862069</td>\n",
              "    </tr>\n",
              "    <tr>\n",
              "      <th>4993</th>\n",
              "      <td>5.0</td>\n",
              "      <td>Lord of the Rings: The Fellowship of the Ring,...</td>\n",
              "      <td>Adventure|Fantasy</td>\n",
              "      <td>198.0</td>\n",
              "      <td>4.106061</td>\n",
              "    </tr>\n",
              "    <tr>\n",
              "      <th>5349</th>\n",
              "      <td>5.0</td>\n",
              "      <td>Spider-Man (2002)</td>\n",
              "      <td>Action|Adventure|Sci-Fi|Thriller</td>\n",
              "      <td>122.0</td>\n",
              "      <td>3.540984</td>\n",
              "    </tr>\n",
              "  </tbody>\n",
              "</table>\n",
              "</div>"
            ],
            "text/plain": [
              "         rating  ... mean_rating\n",
              "movieId          ...            \n",
              "8636        5.0  ...    3.803797\n",
              "58559       5.0  ...    4.238255\n",
              "33794       5.0  ...    3.862069\n",
              "4993        5.0  ...    4.106061\n",
              "5349        5.0  ...    3.540984\n",
              "\n",
              "[5 rows x 5 columns]"
            ]
          },
          "metadata": {
            "tags": []
          },
          "execution_count": 38
        }
      ]
    },
    {
      "cell_type": "markdown",
      "metadata": {
        "id": "coIXeFIetTD5"
      },
      "source": [
        "## Recommend a movie based on the mean of the k nearest users (naive kNN classifier)"
      ]
    },
    {
      "cell_type": "code",
      "metadata": {
        "id": "44z8La3G1q1U"
      },
      "source": [
        "def k_nearest(id, k=10, n_comparisons=None):\n",
        "  \"\"\"sort users by proximity\"\"\"\n",
        "  distances = distances_dataframe(id, n_comparisons)\n",
        "  distances = distances.sort_values('distance')\n",
        "  distances = distances.set_index('user_id')\n",
        "\n",
        "  return distances.head(k)"
      ],
      "execution_count": 39,
      "outputs": []
    },
    {
      "cell_type": "code",
      "metadata": {
        "id": "DPp6MAEF1yWi",
        "outputId": "036427c2-972e-45f2-98bd-56345ad55a44",
        "colab": {
          "base_uri": "https://localhost:8080/",
          "height": 142
        }
      },
      "source": [
        "k_nearest(1, k=2, n_comparisons=300)"
      ],
      "execution_count": 40,
      "outputs": [
        {
          "output_type": "execute_result",
          "data": {
            "text/html": [
              "<div>\n",
              "<style scoped>\n",
              "    .dataframe tbody tr th:only-of-type {\n",
              "        vertical-align: middle;\n",
              "    }\n",
              "\n",
              "    .dataframe tbody tr th {\n",
              "        vertical-align: top;\n",
              "    }\n",
              "\n",
              "    .dataframe thead th {\n",
              "        text-align: right;\n",
              "    }\n",
              "</style>\n",
              "<table border=\"1\" class=\"dataframe\">\n",
              "  <thead>\n",
              "    <tr style=\"text-align: right;\">\n",
              "      <th></th>\n",
              "      <th>my_id</th>\n",
              "      <th>distance</th>\n",
              "    </tr>\n",
              "    <tr>\n",
              "      <th>user_id</th>\n",
              "      <th></th>\n",
              "      <th></th>\n",
              "    </tr>\n",
              "  </thead>\n",
              "  <tbody>\n",
              "    <tr>\n",
              "      <th>77</th>\n",
              "      <td>1</td>\n",
              "      <td>0.0</td>\n",
              "    </tr>\n",
              "    <tr>\n",
              "      <th>49</th>\n",
              "      <td>1</td>\n",
              "      <td>1.0</td>\n",
              "    </tr>\n",
              "  </tbody>\n",
              "</table>\n",
              "</div>"
            ],
            "text/plain": [
              "         my_id  distance\n",
              "user_id                 \n",
              "77           1       0.0\n",
              "49           1       1.0"
            ]
          },
          "metadata": {
            "tags": []
          },
          "execution_count": 40
        }
      ]
    },
    {
      "cell_type": "code",
      "metadata": {
        "id": "Nmqg0qbC0QpD"
      },
      "source": [
        "def k_nearest_recommender(id, k=10, n_comparisons=None):\n",
        "  \"\"\"the k nearest users recommend a movie for the given id\"\"\"\n",
        "  my_ratings = user_ratings(id)\n",
        "\n",
        "  similar = k_nearest(id, k, n_comparisons)\n",
        "  similar_names = similar.index\n",
        "  ratings_by_index = ratings.set_index('userId')\n",
        "  similar_ratings_by_index = ratings_by_index.loc[similar_names]\n",
        "\n",
        "  similar_mean_rating = similar_ratings_by_index.groupby('movieId').mean()[['rating']]\n",
        "  recommendation = similar_mean_rating.sort_values('rating', ascending=False)\n",
        "\n",
        "  return recommendation.join(movies)"
      ],
      "execution_count": 41,
      "outputs": []
    },
    {
      "cell_type": "code",
      "metadata": {
        "id": "dsBPWUgN29z9",
        "outputId": "4d9515ce-637a-485c-aae4-dcffe3cfb40e",
        "colab": {
          "base_uri": "https://localhost:8080/",
          "height": 235
        }
      },
      "source": [
        "k_nearest_recommender(1, k=10).head()"
      ],
      "execution_count": 42,
      "outputs": [
        {
          "output_type": "execute_result",
          "data": {
            "text/html": [
              "<div>\n",
              "<style scoped>\n",
              "    .dataframe tbody tr th:only-of-type {\n",
              "        vertical-align: middle;\n",
              "    }\n",
              "\n",
              "    .dataframe tbody tr th {\n",
              "        vertical-align: top;\n",
              "    }\n",
              "\n",
              "    .dataframe thead th {\n",
              "        text-align: right;\n",
              "    }\n",
              "</style>\n",
              "<table border=\"1\" class=\"dataframe\">\n",
              "  <thead>\n",
              "    <tr style=\"text-align: right;\">\n",
              "      <th></th>\n",
              "      <th>rating</th>\n",
              "      <th>title</th>\n",
              "      <th>genres</th>\n",
              "      <th>total_votes</th>\n",
              "      <th>mean_rating</th>\n",
              "    </tr>\n",
              "    <tr>\n",
              "      <th>movieId</th>\n",
              "      <th></th>\n",
              "      <th></th>\n",
              "      <th></th>\n",
              "      <th></th>\n",
              "      <th></th>\n",
              "    </tr>\n",
              "  </thead>\n",
              "  <tbody>\n",
              "    <tr>\n",
              "      <th>1704</th>\n",
              "      <td>5.0</td>\n",
              "      <td>Good Will Hunting (1997)</td>\n",
              "      <td>Drama|Romance</td>\n",
              "      <td>141.0</td>\n",
              "      <td>4.078014</td>\n",
              "    </tr>\n",
              "    <tr>\n",
              "      <th>57504</th>\n",
              "      <td>5.0</td>\n",
              "      <td>Girl Who Leapt Through Time, The (Toki o kaker...</td>\n",
              "      <td>Animation|Comedy|Drama|Romance|Sci-Fi</td>\n",
              "      <td>10.0</td>\n",
              "      <td>4.100000</td>\n",
              "    </tr>\n",
              "    <tr>\n",
              "      <th>38304</th>\n",
              "      <td>5.0</td>\n",
              "      <td>No Direction Home: Bob Dylan (2005)</td>\n",
              "      <td>Documentary</td>\n",
              "      <td>4.0</td>\n",
              "      <td>4.625000</td>\n",
              "    </tr>\n",
              "    <tr>\n",
              "      <th>48394</th>\n",
              "      <td>5.0</td>\n",
              "      <td>Pan's Labyrinth (Laberinto del fauno, El) (2006)</td>\n",
              "      <td>Drama|Fantasy|Thriller</td>\n",
              "      <td>81.0</td>\n",
              "      <td>3.814815</td>\n",
              "    </tr>\n",
              "    <tr>\n",
              "      <th>2300</th>\n",
              "      <td>5.0</td>\n",
              "      <td>Producers, The (1968)</td>\n",
              "      <td>Comedy</td>\n",
              "      <td>33.0</td>\n",
              "      <td>3.969697</td>\n",
              "    </tr>\n",
              "  </tbody>\n",
              "</table>\n",
              "</div>"
            ],
            "text/plain": [
              "         rating  ... mean_rating\n",
              "movieId          ...            \n",
              "1704        5.0  ...    4.078014\n",
              "57504       5.0  ...    4.100000\n",
              "38304       5.0  ...    4.625000\n",
              "48394       5.0  ...    3.814815\n",
              "2300        5.0  ...    3.969697\n",
              "\n",
              "[5 rows x 5 columns]"
            ]
          },
          "metadata": {
            "tags": []
          },
          "execution_count": 42
        }
      ]
    },
    {
      "cell_type": "markdown",
      "metadata": {
        "id": "OzkhFfuZ6rsd"
      },
      "source": [
        "# Creating a New User"
      ]
    },
    {
      "cell_type": "markdown",
      "metadata": {
        "id": "SWC-EY1PbcgU"
      },
      "source": [
        "## Define the new user"
      ]
    },
    {
      "cell_type": "code",
      "metadata": {
        "id": "7mb4l5MNIkJI"
      },
      "source": [
        "# define user watched movies and ratings\n",
        "watched_movies = [122904, 1246, 2529, 2329, 2324, 1, 7, 2, 1196, 260]\n",
        "watched_movies_ratings = [2, 5, 2, 5, 5, 2, 0.5, 2, 1, 1]\n",
        "user_data = [list(i) for i in zip(watched_movies, watched_movies_ratings)]"
      ],
      "execution_count": 43,
      "outputs": []
    },
    {
      "cell_type": "code",
      "metadata": {
        "id": "UcfHE3ILI0GX"
      },
      "source": [
        "def new_user(data):\n",
        "  \"\"\"create a new user and append to ratings dataframe\"\"\"\n",
        "  user_id = ratings['userId'].max()+1\n",
        "  user_ratings = pd.DataFrame(data, columns=['movieId', 'rating'])\n",
        "  user_ratings['userId'] = user_id\n",
        "\n",
        "  return pd.concat([ratings, user_ratings])"
      ],
      "execution_count": 44,
      "outputs": []
    },
    {
      "cell_type": "code",
      "metadata": {
        "id": "6jTAwWqALRWK"
      },
      "source": [
        "# append new user to ratings\n",
        "ratings = pd.read_csv(\"/content/ml-latest-small/ratings.csv\")\n",
        "ratings = new_user(user_data)"
      ],
      "execution_count": 45,
      "outputs": []
    },
    {
      "cell_type": "markdown",
      "metadata": {
        "id": "BAJYPPrqa0lu"
      },
      "source": [
        "## Recommend movies to the new user"
      ]
    },
    {
      "cell_type": "code",
      "metadata": {
        "id": "QMjxJEWwLul5",
        "outputId": "a1062c0d-e40e-47c7-eced-e1d251906ec5",
        "colab": {
          "base_uri": "https://localhost:8080/",
          "height": 235
        }
      },
      "source": [
        "k_nearest_recommender(611).head()"
      ],
      "execution_count": 46,
      "outputs": [
        {
          "output_type": "execute_result",
          "data": {
            "text/html": [
              "<div>\n",
              "<style scoped>\n",
              "    .dataframe tbody tr th:only-of-type {\n",
              "        vertical-align: middle;\n",
              "    }\n",
              "\n",
              "    .dataframe tbody tr th {\n",
              "        vertical-align: top;\n",
              "    }\n",
              "\n",
              "    .dataframe thead th {\n",
              "        text-align: right;\n",
              "    }\n",
              "</style>\n",
              "<table border=\"1\" class=\"dataframe\">\n",
              "  <thead>\n",
              "    <tr style=\"text-align: right;\">\n",
              "      <th></th>\n",
              "      <th>rating</th>\n",
              "      <th>title</th>\n",
              "      <th>genres</th>\n",
              "      <th>total_votes</th>\n",
              "      <th>mean_rating</th>\n",
              "    </tr>\n",
              "    <tr>\n",
              "      <th>movieId</th>\n",
              "      <th></th>\n",
              "      <th></th>\n",
              "      <th></th>\n",
              "      <th></th>\n",
              "      <th></th>\n",
              "    </tr>\n",
              "  </thead>\n",
              "  <tbody>\n",
              "    <tr>\n",
              "      <th>171495</th>\n",
              "      <td>5.0</td>\n",
              "      <td>Cosmos</td>\n",
              "      <td>(no genres listed)</td>\n",
              "      <td>2.0</td>\n",
              "      <td>4.500000</td>\n",
              "    </tr>\n",
              "    <tr>\n",
              "      <th>81847</th>\n",
              "      <td>5.0</td>\n",
              "      <td>Tangled (2010)</td>\n",
              "      <td>Animation|Children|Comedy|Fantasy|Musical|Roma...</td>\n",
              "      <td>24.0</td>\n",
              "      <td>3.916667</td>\n",
              "    </tr>\n",
              "    <tr>\n",
              "      <th>1873</th>\n",
              "      <td>5.0</td>\n",
              "      <td>Misérables, Les (1998)</td>\n",
              "      <td>Crime|Drama|Romance|War</td>\n",
              "      <td>10.0</td>\n",
              "      <td>3.750000</td>\n",
              "    </tr>\n",
              "    <tr>\n",
              "      <th>8014</th>\n",
              "      <td>5.0</td>\n",
              "      <td>Spring, Summer, Fall, Winter... and Spring (Bo...</td>\n",
              "      <td>Drama</td>\n",
              "      <td>10.0</td>\n",
              "      <td>4.250000</td>\n",
              "    </tr>\n",
              "    <tr>\n",
              "      <th>103141</th>\n",
              "      <td>5.0</td>\n",
              "      <td>Monsters University (2013)</td>\n",
              "      <td>Adventure|Animation|Comedy</td>\n",
              "      <td>16.0</td>\n",
              "      <td>3.875000</td>\n",
              "    </tr>\n",
              "  </tbody>\n",
              "</table>\n",
              "</div>"
            ],
            "text/plain": [
              "         rating  ... mean_rating\n",
              "movieId          ...            \n",
              "171495      5.0  ...    4.500000\n",
              "81847       5.0  ...    3.916667\n",
              "1873        5.0  ...    3.750000\n",
              "8014        5.0  ...    4.250000\n",
              "103141      5.0  ...    3.875000\n",
              "\n",
              "[5 rows x 5 columns]"
            ]
          },
          "metadata": {
            "tags": []
          },
          "execution_count": 46
        }
      ]
    },
    {
      "cell_type": "markdown",
      "metadata": {
        "id": "v67wgr8ZOSRL"
      },
      "source": [
        "### Using movies with 50 or more votes"
      ]
    },
    {
      "cell_type": "code",
      "metadata": {
        "id": "0nNFvD6TO_ZO",
        "outputId": "7dd046b5-05b3-4872-e350-66e9a073f9e3",
        "colab": {
          "base_uri": "https://localhost:8080/",
          "height": 204
        }
      },
      "source": [
        "ratings = ratings.set_index('movieId').loc[movies_50.index]\n",
        "ratings = ratings.reset_index()\n",
        "ratings.head()"
      ],
      "execution_count": 47,
      "outputs": [
        {
          "output_type": "execute_result",
          "data": {
            "text/html": [
              "<div>\n",
              "<style scoped>\n",
              "    .dataframe tbody tr th:only-of-type {\n",
              "        vertical-align: middle;\n",
              "    }\n",
              "\n",
              "    .dataframe tbody tr th {\n",
              "        vertical-align: top;\n",
              "    }\n",
              "\n",
              "    .dataframe thead th {\n",
              "        text-align: right;\n",
              "    }\n",
              "</style>\n",
              "<table border=\"1\" class=\"dataframe\">\n",
              "  <thead>\n",
              "    <tr style=\"text-align: right;\">\n",
              "      <th></th>\n",
              "      <th>movieId</th>\n",
              "      <th>userId</th>\n",
              "      <th>rating</th>\n",
              "      <th>timestamp</th>\n",
              "    </tr>\n",
              "  </thead>\n",
              "  <tbody>\n",
              "    <tr>\n",
              "      <th>0</th>\n",
              "      <td>318</td>\n",
              "      <td>2</td>\n",
              "      <td>3.0</td>\n",
              "      <td>1.445715e+09</td>\n",
              "    </tr>\n",
              "    <tr>\n",
              "      <th>1</th>\n",
              "      <td>318</td>\n",
              "      <td>5</td>\n",
              "      <td>3.0</td>\n",
              "      <td>8.474349e+08</td>\n",
              "    </tr>\n",
              "    <tr>\n",
              "      <th>2</th>\n",
              "      <td>318</td>\n",
              "      <td>6</td>\n",
              "      <td>5.0</td>\n",
              "      <td>8.455532e+08</td>\n",
              "    </tr>\n",
              "    <tr>\n",
              "      <th>3</th>\n",
              "      <td>318</td>\n",
              "      <td>8</td>\n",
              "      <td>5.0</td>\n",
              "      <td>8.394635e+08</td>\n",
              "    </tr>\n",
              "    <tr>\n",
              "      <th>4</th>\n",
              "      <td>318</td>\n",
              "      <td>11</td>\n",
              "      <td>4.0</td>\n",
              "      <td>9.021551e+08</td>\n",
              "    </tr>\n",
              "  </tbody>\n",
              "</table>\n",
              "</div>"
            ],
            "text/plain": [
              "   movieId  userId  rating     timestamp\n",
              "0      318       2     3.0  1.445715e+09\n",
              "1      318       5     3.0  8.474349e+08\n",
              "2      318       6     5.0  8.455532e+08\n",
              "3      318       8     5.0  8.394635e+08\n",
              "4      318      11     4.0  9.021551e+08"
            ]
          },
          "metadata": {
            "tags": []
          },
          "execution_count": 47
        }
      ]
    },
    {
      "cell_type": "code",
      "metadata": {
        "id": "vsU5BIh2O6v-",
        "outputId": "b79b7222-a1d7-4b4d-ec13-1670e08760d6",
        "colab": {
          "base_uri": "https://localhost:8080/",
          "height": 235
        }
      },
      "source": [
        "k_nearest_recommender(611).head()"
      ],
      "execution_count": 48,
      "outputs": [
        {
          "output_type": "execute_result",
          "data": {
            "text/html": [
              "<div>\n",
              "<style scoped>\n",
              "    .dataframe tbody tr th:only-of-type {\n",
              "        vertical-align: middle;\n",
              "    }\n",
              "\n",
              "    .dataframe tbody tr th {\n",
              "        vertical-align: top;\n",
              "    }\n",
              "\n",
              "    .dataframe thead th {\n",
              "        text-align: right;\n",
              "    }\n",
              "</style>\n",
              "<table border=\"1\" class=\"dataframe\">\n",
              "  <thead>\n",
              "    <tr style=\"text-align: right;\">\n",
              "      <th></th>\n",
              "      <th>rating</th>\n",
              "      <th>title</th>\n",
              "      <th>genres</th>\n",
              "      <th>total_votes</th>\n",
              "      <th>mean_rating</th>\n",
              "    </tr>\n",
              "    <tr>\n",
              "      <th>movieId</th>\n",
              "      <th></th>\n",
              "      <th></th>\n",
              "      <th></th>\n",
              "      <th></th>\n",
              "      <th></th>\n",
              "    </tr>\n",
              "  </thead>\n",
              "  <tbody>\n",
              "    <tr>\n",
              "      <th>112852</th>\n",
              "      <td>5.000000</td>\n",
              "      <td>Guardians of the Galaxy (2014)</td>\n",
              "      <td>Action|Adventure|Sci-Fi</td>\n",
              "      <td>59.0</td>\n",
              "      <td>4.050847</td>\n",
              "    </tr>\n",
              "    <tr>\n",
              "      <th>74458</th>\n",
              "      <td>4.750000</td>\n",
              "      <td>Shutter Island (2010)</td>\n",
              "      <td>Drama|Mystery|Thriller</td>\n",
              "      <td>67.0</td>\n",
              "      <td>4.022388</td>\n",
              "    </tr>\n",
              "    <tr>\n",
              "      <th>71535</th>\n",
              "      <td>4.666667</td>\n",
              "      <td>Zombieland (2009)</td>\n",
              "      <td>Action|Comedy|Horror</td>\n",
              "      <td>53.0</td>\n",
              "      <td>3.877358</td>\n",
              "    </tr>\n",
              "    <tr>\n",
              "      <th>78499</th>\n",
              "      <td>4.500000</td>\n",
              "      <td>Toy Story 3 (2010)</td>\n",
              "      <td>Adventure|Animation|Children|Comedy|Fantasy|IMAX</td>\n",
              "      <td>55.0</td>\n",
              "      <td>4.109091</td>\n",
              "    </tr>\n",
              "    <tr>\n",
              "      <th>2804</th>\n",
              "      <td>4.500000</td>\n",
              "      <td>Christmas Story, A (1983)</td>\n",
              "      <td>Children|Comedy</td>\n",
              "      <td>55.0</td>\n",
              "      <td>3.972727</td>\n",
              "    </tr>\n",
              "  </tbody>\n",
              "</table>\n",
              "</div>"
            ],
            "text/plain": [
              "           rating                           title  ... total_votes  mean_rating\n",
              "movieId                                            ...                         \n",
              "112852   5.000000  Guardians of the Galaxy (2014)  ...        59.0     4.050847\n",
              "74458    4.750000           Shutter Island (2010)  ...        67.0     4.022388\n",
              "71535    4.666667               Zombieland (2009)  ...        53.0     3.877358\n",
              "78499    4.500000              Toy Story 3 (2010)  ...        55.0     4.109091\n",
              "2804     4.500000       Christmas Story, A (1983)  ...        55.0     3.972727\n",
              "\n",
              "[5 rows x 5 columns]"
            ]
          },
          "metadata": {
            "tags": []
          },
          "execution_count": 48
        }
      ]
    },
    {
      "cell_type": "code",
      "metadata": {
        "id": "q4SrHLHvQETe",
        "outputId": "31b7f349-12d0-4b11-95f6-0850356fa04e",
        "colab": {
          "base_uri": "https://localhost:8080/",
          "height": 235
        }
      },
      "source": [
        "k_nearest_recommender(611, n_comparisons=300).head()"
      ],
      "execution_count": 49,
      "outputs": [
        {
          "output_type": "execute_result",
          "data": {
            "text/html": [
              "<div>\n",
              "<style scoped>\n",
              "    .dataframe tbody tr th:only-of-type {\n",
              "        vertical-align: middle;\n",
              "    }\n",
              "\n",
              "    .dataframe tbody tr th {\n",
              "        vertical-align: top;\n",
              "    }\n",
              "\n",
              "    .dataframe thead th {\n",
              "        text-align: right;\n",
              "    }\n",
              "</style>\n",
              "<table border=\"1\" class=\"dataframe\">\n",
              "  <thead>\n",
              "    <tr style=\"text-align: right;\">\n",
              "      <th></th>\n",
              "      <th>rating</th>\n",
              "      <th>title</th>\n",
              "      <th>genres</th>\n",
              "      <th>total_votes</th>\n",
              "      <th>mean_rating</th>\n",
              "    </tr>\n",
              "    <tr>\n",
              "      <th>movieId</th>\n",
              "      <th></th>\n",
              "      <th></th>\n",
              "      <th></th>\n",
              "      <th></th>\n",
              "      <th></th>\n",
              "    </tr>\n",
              "  </thead>\n",
              "  <tbody>\n",
              "    <tr>\n",
              "      <th>109487</th>\n",
              "      <td>5.00</td>\n",
              "      <td>Interstellar (2014)</td>\n",
              "      <td>Sci-Fi|IMAX</td>\n",
              "      <td>73.0</td>\n",
              "      <td>3.993151</td>\n",
              "    </tr>\n",
              "    <tr>\n",
              "      <th>112852</th>\n",
              "      <td>5.00</td>\n",
              "      <td>Guardians of the Galaxy (2014)</td>\n",
              "      <td>Action|Adventure|Sci-Fi</td>\n",
              "      <td>59.0</td>\n",
              "      <td>4.050847</td>\n",
              "    </tr>\n",
              "    <tr>\n",
              "      <th>3471</th>\n",
              "      <td>5.00</td>\n",
              "      <td>Close Encounters of the Third Kind (1977)</td>\n",
              "      <td>Adventure|Drama|Sci-Fi</td>\n",
              "      <td>60.0</td>\n",
              "      <td>3.741667</td>\n",
              "    </tr>\n",
              "    <tr>\n",
              "      <th>106782</th>\n",
              "      <td>5.00</td>\n",
              "      <td>Wolf of Wall Street, The (2013)</td>\n",
              "      <td>Comedy|Crime|Drama</td>\n",
              "      <td>54.0</td>\n",
              "      <td>3.916667</td>\n",
              "    </tr>\n",
              "    <tr>\n",
              "      <th>74458</th>\n",
              "      <td>4.75</td>\n",
              "      <td>Shutter Island (2010)</td>\n",
              "      <td>Drama|Mystery|Thriller</td>\n",
              "      <td>67.0</td>\n",
              "      <td>4.022388</td>\n",
              "    </tr>\n",
              "  </tbody>\n",
              "</table>\n",
              "</div>"
            ],
            "text/plain": [
              "         rating  ... mean_rating\n",
              "movieId          ...            \n",
              "109487     5.00  ...    3.993151\n",
              "112852     5.00  ...    4.050847\n",
              "3471       5.00  ...    3.741667\n",
              "106782     5.00  ...    3.916667\n",
              "74458      4.75  ...    4.022388\n",
              "\n",
              "[5 rows x 5 columns]"
            ]
          },
          "metadata": {
            "tags": []
          },
          "execution_count": 49
        }
      ]
    },
    {
      "cell_type": "markdown",
      "metadata": {
        "id": "ScDV9ynbZWKl"
      },
      "source": [
        "## Create a kNN based recommendation system from movies with at least k/2 ratings and best mean between k-nearest users"
      ]
    },
    {
      "cell_type": "code",
      "metadata": {
        "id": "KnGL13SQRIR2"
      },
      "source": [
        "def knn_recsys(id, k=10, n_comparisons=None):\n",
        "  \"\"\"the k nearest neighbors recommend a movie for the given id\"\"\"\n",
        "  my_ratings = user_ratings(id)\n",
        "  watched_movies = my_ratings.index\n",
        "\n",
        "  similar = k_nearest(id, k, n_comparisons)\n",
        "  similar_names = similar.index\n",
        "  ratings_by_index = ratings.set_index('userId')\n",
        "  similar_ratings_by_index = ratings_by_index.loc[similar_names]\n",
        "  similar_grouped = similar_ratings_by_index.groupby('movieId')\n",
        "\n",
        "  similar_mean_rating = similar_grouped.mean()[['rating']]\n",
        "  similar_count = similar_grouped.count()[['rating']]\n",
        "  recommendation = similar_mean_rating.join(similar_count, lsuffix='_mean', rsuffix='_count')\n",
        "\n",
        "  min_user_rating = k/2\n",
        "  filtered = recommendation.query(f'rating_count >={min_user_rating:.2f}')\n",
        "  recommendation = filtered.sort_values('rating_count', ascending=False)\n",
        "  recommendation_without_watched = recommendation.drop(watched_movies, errors='ignore')\n",
        "  return recommendation.join(movies)"
      ],
      "execution_count": 50,
      "outputs": []
    },
    {
      "cell_type": "markdown",
      "metadata": {
        "id": "TzGzZNpbaNeL"
      },
      "source": [
        "## Recommend 10 new movies to the new user"
      ]
    },
    {
      "cell_type": "code",
      "metadata": {
        "id": "CEYHynckSrRy",
        "outputId": "7e81498e-b673-44a9-dc50-3a0c8bff046c",
        "colab": {
          "base_uri": "https://localhost:8080/",
          "height": 390
        }
      },
      "source": [
        "knn_recsys(611, k=10, n_comparisons=300).head(10)"
      ],
      "execution_count": 51,
      "outputs": [
        {
          "output_type": "execute_result",
          "data": {
            "text/html": [
              "<div>\n",
              "<style scoped>\n",
              "    .dataframe tbody tr th:only-of-type {\n",
              "        vertical-align: middle;\n",
              "    }\n",
              "\n",
              "    .dataframe tbody tr th {\n",
              "        vertical-align: top;\n",
              "    }\n",
              "\n",
              "    .dataframe thead th {\n",
              "        text-align: right;\n",
              "    }\n",
              "</style>\n",
              "<table border=\"1\" class=\"dataframe\">\n",
              "  <thead>\n",
              "    <tr style=\"text-align: right;\">\n",
              "      <th></th>\n",
              "      <th>rating_mean</th>\n",
              "      <th>rating_count</th>\n",
              "      <th>title</th>\n",
              "      <th>genres</th>\n",
              "      <th>total_votes</th>\n",
              "      <th>mean_rating</th>\n",
              "    </tr>\n",
              "    <tr>\n",
              "      <th>movieId</th>\n",
              "      <th></th>\n",
              "      <th></th>\n",
              "      <th></th>\n",
              "      <th></th>\n",
              "      <th></th>\n",
              "      <th></th>\n",
              "    </tr>\n",
              "  </thead>\n",
              "  <tbody>\n",
              "    <tr>\n",
              "      <th>5952</th>\n",
              "      <td>3.65</td>\n",
              "      <td>10</td>\n",
              "      <td>Lord of the Rings: The Two Towers, The (2002)</td>\n",
              "      <td>Adventure|Fantasy</td>\n",
              "      <td>188.0</td>\n",
              "      <td>4.021277</td>\n",
              "    </tr>\n",
              "    <tr>\n",
              "      <th>4993</th>\n",
              "      <td>3.80</td>\n",
              "      <td>10</td>\n",
              "      <td>Lord of the Rings: The Fellowship of the Ring,...</td>\n",
              "      <td>Adventure|Fantasy</td>\n",
              "      <td>198.0</td>\n",
              "      <td>4.106061</td>\n",
              "    </tr>\n",
              "    <tr>\n",
              "      <th>318</th>\n",
              "      <td>4.40</td>\n",
              "      <td>10</td>\n",
              "      <td>Shawshank Redemption, The (1994)</td>\n",
              "      <td>Crime|Drama</td>\n",
              "      <td>317.0</td>\n",
              "      <td>4.429022</td>\n",
              "    </tr>\n",
              "    <tr>\n",
              "      <th>356</th>\n",
              "      <td>4.50</td>\n",
              "      <td>10</td>\n",
              "      <td>Forrest Gump (1994)</td>\n",
              "      <td>Comedy|Drama|Romance|War</td>\n",
              "      <td>329.0</td>\n",
              "      <td>4.164134</td>\n",
              "    </tr>\n",
              "    <tr>\n",
              "      <th>4306</th>\n",
              "      <td>3.65</td>\n",
              "      <td>10</td>\n",
              "      <td>Shrek (2001)</td>\n",
              "      <td>Adventure|Animation|Children|Comedy|Fantasy|Ro...</td>\n",
              "      <td>170.0</td>\n",
              "      <td>3.867647</td>\n",
              "    </tr>\n",
              "    <tr>\n",
              "      <th>7153</th>\n",
              "      <td>3.50</td>\n",
              "      <td>10</td>\n",
              "      <td>Lord of the Rings: The Return of the King, The...</td>\n",
              "      <td>Action|Adventure|Drama|Fantasy</td>\n",
              "      <td>185.0</td>\n",
              "      <td>4.118919</td>\n",
              "    </tr>\n",
              "    <tr>\n",
              "      <th>2571</th>\n",
              "      <td>4.00</td>\n",
              "      <td>10</td>\n",
              "      <td>Matrix, The (1999)</td>\n",
              "      <td>Action|Sci-Fi|Thriller</td>\n",
              "      <td>278.0</td>\n",
              "      <td>4.192446</td>\n",
              "    </tr>\n",
              "    <tr>\n",
              "      <th>260</th>\n",
              "      <td>3.20</td>\n",
              "      <td>10</td>\n",
              "      <td>Star Wars: Episode IV - A New Hope (1977)</td>\n",
              "      <td>Action|Adventure|Sci-Fi</td>\n",
              "      <td>251.0</td>\n",
              "      <td>4.231076</td>\n",
              "    </tr>\n",
              "    <tr>\n",
              "      <th>6539</th>\n",
              "      <td>3.25</td>\n",
              "      <td>10</td>\n",
              "      <td>Pirates of the Caribbean: The Curse of the Bla...</td>\n",
              "      <td>Action|Adventure|Comedy|Fantasy</td>\n",
              "      <td>149.0</td>\n",
              "      <td>3.778523</td>\n",
              "    </tr>\n",
              "    <tr>\n",
              "      <th>47</th>\n",
              "      <td>4.05</td>\n",
              "      <td>10</td>\n",
              "      <td>Seven (a.k.a. Se7en) (1995)</td>\n",
              "      <td>Mystery|Thriller</td>\n",
              "      <td>203.0</td>\n",
              "      <td>3.975369</td>\n",
              "    </tr>\n",
              "  </tbody>\n",
              "</table>\n",
              "</div>"
            ],
            "text/plain": [
              "         rating_mean  rating_count  ... total_votes mean_rating\n",
              "movieId                             ...                        \n",
              "5952            3.65            10  ...       188.0    4.021277\n",
              "4993            3.80            10  ...       198.0    4.106061\n",
              "318             4.40            10  ...       317.0    4.429022\n",
              "356             4.50            10  ...       329.0    4.164134\n",
              "4306            3.65            10  ...       170.0    3.867647\n",
              "7153            3.50            10  ...       185.0    4.118919\n",
              "2571            4.00            10  ...       278.0    4.192446\n",
              "260             3.20            10  ...       251.0    4.231076\n",
              "6539            3.25            10  ...       149.0    3.778523\n",
              "47              4.05            10  ...       203.0    3.975369\n",
              "\n",
              "[10 rows x 6 columns]"
            ]
          },
          "metadata": {
            "tags": []
          },
          "execution_count": 51
        }
      ]
    },
    {
      "cell_type": "code",
      "metadata": {
        "id": "MEBKf6r8Syfl",
        "outputId": "51003b13-e5e5-43c6-db19-b635f10a1978",
        "colab": {
          "base_uri": "https://localhost:8080/",
          "height": 390
        }
      },
      "source": [
        "knn_recsys(611, k=20).head(10)"
      ],
      "execution_count": 52,
      "outputs": [
        {
          "output_type": "execute_result",
          "data": {
            "text/html": [
              "<div>\n",
              "<style scoped>\n",
              "    .dataframe tbody tr th:only-of-type {\n",
              "        vertical-align: middle;\n",
              "    }\n",
              "\n",
              "    .dataframe tbody tr th {\n",
              "        vertical-align: top;\n",
              "    }\n",
              "\n",
              "    .dataframe thead th {\n",
              "        text-align: right;\n",
              "    }\n",
              "</style>\n",
              "<table border=\"1\" class=\"dataframe\">\n",
              "  <thead>\n",
              "    <tr style=\"text-align: right;\">\n",
              "      <th></th>\n",
              "      <th>rating_mean</th>\n",
              "      <th>rating_count</th>\n",
              "      <th>title</th>\n",
              "      <th>genres</th>\n",
              "      <th>total_votes</th>\n",
              "      <th>mean_rating</th>\n",
              "    </tr>\n",
              "    <tr>\n",
              "      <th>movieId</th>\n",
              "      <th></th>\n",
              "      <th></th>\n",
              "      <th></th>\n",
              "      <th></th>\n",
              "      <th></th>\n",
              "      <th></th>\n",
              "    </tr>\n",
              "  </thead>\n",
              "  <tbody>\n",
              "    <tr>\n",
              "      <th>2571</th>\n",
              "      <td>3.975000</td>\n",
              "      <td>20</td>\n",
              "      <td>Matrix, The (1999)</td>\n",
              "      <td>Action|Sci-Fi|Thriller</td>\n",
              "      <td>278.0</td>\n",
              "      <td>4.192446</td>\n",
              "    </tr>\n",
              "    <tr>\n",
              "      <th>1196</th>\n",
              "      <td>3.236842</td>\n",
              "      <td>19</td>\n",
              "      <td>Star Wars: Episode V - The Empire Strikes Back...</td>\n",
              "      <td>Action|Adventure|Sci-Fi</td>\n",
              "      <td>211.0</td>\n",
              "      <td>4.215640</td>\n",
              "    </tr>\n",
              "    <tr>\n",
              "      <th>4993</th>\n",
              "      <td>3.921053</td>\n",
              "      <td>19</td>\n",
              "      <td>Lord of the Rings: The Fellowship of the Ring,...</td>\n",
              "      <td>Adventure|Fantasy</td>\n",
              "      <td>198.0</td>\n",
              "      <td>4.106061</td>\n",
              "    </tr>\n",
              "    <tr>\n",
              "      <th>356</th>\n",
              "      <td>4.026316</td>\n",
              "      <td>19</td>\n",
              "      <td>Forrest Gump (1994)</td>\n",
              "      <td>Comedy|Drama|Romance|War</td>\n",
              "      <td>329.0</td>\n",
              "      <td>4.164134</td>\n",
              "    </tr>\n",
              "    <tr>\n",
              "      <th>4306</th>\n",
              "      <td>3.552632</td>\n",
              "      <td>19</td>\n",
              "      <td>Shrek (2001)</td>\n",
              "      <td>Adventure|Animation|Children|Comedy|Fantasy|Ro...</td>\n",
              "      <td>170.0</td>\n",
              "      <td>3.867647</td>\n",
              "    </tr>\n",
              "    <tr>\n",
              "      <th>4226</th>\n",
              "      <td>3.947368</td>\n",
              "      <td>19</td>\n",
              "      <td>Memento (2000)</td>\n",
              "      <td>Mystery|Thriller</td>\n",
              "      <td>159.0</td>\n",
              "      <td>4.122642</td>\n",
              "    </tr>\n",
              "    <tr>\n",
              "      <th>47</th>\n",
              "      <td>4.083333</td>\n",
              "      <td>18</td>\n",
              "      <td>Seven (a.k.a. Se7en) (1995)</td>\n",
              "      <td>Mystery|Thriller</td>\n",
              "      <td>203.0</td>\n",
              "      <td>3.975369</td>\n",
              "    </tr>\n",
              "    <tr>\n",
              "      <th>7153</th>\n",
              "      <td>3.722222</td>\n",
              "      <td>18</td>\n",
              "      <td>Lord of the Rings: The Return of the King, The...</td>\n",
              "      <td>Action|Adventure|Drama|Fantasy</td>\n",
              "      <td>185.0</td>\n",
              "      <td>4.118919</td>\n",
              "    </tr>\n",
              "    <tr>\n",
              "      <th>6539</th>\n",
              "      <td>3.277778</td>\n",
              "      <td>18</td>\n",
              "      <td>Pirates of the Caribbean: The Curse of the Bla...</td>\n",
              "      <td>Action|Adventure|Comedy|Fantasy</td>\n",
              "      <td>149.0</td>\n",
              "      <td>3.778523</td>\n",
              "    </tr>\n",
              "    <tr>\n",
              "      <th>2959</th>\n",
              "      <td>4.083333</td>\n",
              "      <td>18</td>\n",
              "      <td>Fight Club (1999)</td>\n",
              "      <td>Action|Crime|Drama|Thriller</td>\n",
              "      <td>218.0</td>\n",
              "      <td>4.272936</td>\n",
              "    </tr>\n",
              "  </tbody>\n",
              "</table>\n",
              "</div>"
            ],
            "text/plain": [
              "         rating_mean  rating_count  ... total_votes mean_rating\n",
              "movieId                             ...                        \n",
              "2571        3.975000            20  ...       278.0    4.192446\n",
              "1196        3.236842            19  ...       211.0    4.215640\n",
              "4993        3.921053            19  ...       198.0    4.106061\n",
              "356         4.026316            19  ...       329.0    4.164134\n",
              "4306        3.552632            19  ...       170.0    3.867647\n",
              "4226        3.947368            19  ...       159.0    4.122642\n",
              "47          4.083333            18  ...       203.0    3.975369\n",
              "7153        3.722222            18  ...       185.0    4.118919\n",
              "6539        3.277778            18  ...       149.0    3.778523\n",
              "2959        4.083333            18  ...       218.0    4.272936\n",
              "\n",
              "[10 rows x 6 columns]"
            ]
          },
          "metadata": {
            "tags": []
          },
          "execution_count": 52
        }
      ]
    },
    {
      "cell_type": "code",
      "metadata": {
        "id": "Xgu_HvgsWpJr"
      },
      "source": [
        ""
      ],
      "execution_count": 52,
      "outputs": []
    }
  ]
}